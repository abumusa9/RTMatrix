{
 "cells": [
  {
   "cell_type": "markdown",
   "id": "2f62aad5",
   "metadata": {},
   "source": [
    "# Recommender System"
   ]
  },
  {
   "cell_type": "markdown",
   "id": "19c41f2e",
   "metadata": {},
   "source": [
    "This is a recommender system using collaborating method. I used Matrix Factorisation algorithm to build the recommender. The dataset used is a real world rating matrix provided by Dabolinux Technology Company. "
   ]
  },
  {
   "cell_type": "markdown",
   "id": "2b73753d",
   "metadata": {},
   "source": [
    "First we start by downloading the dataset:"
   ]
  },
  {
   "cell_type": "code",
   "execution_count": null,
   "id": "24a17e60",
   "metadata": {},
   "outputs": [],
   "source": [
    "import pandas as pd\n",
    "import matplotlib.pyplot as plt\n",
    "pd.options.display.max_rows = 10\n",
    "#from mxnet import autograd, gluon, \n",
    "import numpy as np\n",
    "#from mxnet.gluon import nn\n",
    "#import mxnet as mx\n",
    "#npx.set_np()\n",
    "from IPython import display\n",
    "import math\n",
    "import time"
   ]
  },
  {
   "cell_type": "code",
   "execution_count": null,
   "id": "e314b71b",
   "metadata": {},
   "outputs": [],
   "source": [
    "names = [i for i in range(1, 5826)]\n",
    "df = pd.read_excel('rtmatric.xlsx', names=names)\n",
    "df = pd.DataFrame(df, index=[i for i in range(1, 338)])\n",
    "df.index.name, df.columns.name ='userid', 'itemid'\n",
    "df"
   ]
  },
  {
   "cell_type": "markdown",
   "id": "b3ace51b",
   "metadata": {},
   "source": [
    "# Statistics of the Dataset"
   ]
  },
  {
   "cell_type": "markdown",
   "id": "f9c18b3b",
   "metadata": {},
   "source": [
    "Next, we are going to inspect the data manually:"
   ]
  },
  {
   "cell_type": "code",
   "execution_count": null,
   "id": "4b6b7716",
   "metadata": {},
   "outputs": [],
   "source": [
    "num_users = df.shape[0]\n",
    "num_items = df.shape[1]\n",
    "sparsity = 1 - len(df) / (num_users * num_items)"
   ]
  },
  {
   "cell_type": "code",
   "execution_count": null,
   "id": "44873bbd",
   "metadata": {},
   "outputs": [],
   "source": [
    "print('number of users: %d, number of items: %d.' % (num_users, num_items))\n",
    "print('matrix sparsity: %f' % sparsity)\n",
    "df.max().sort_values(ascending=False)"
   ]
  },
  {
   "cell_type": "markdown",
   "id": "d4a5ddf0",
   "metadata": {},
   "source": [
    "The sparsity of the data shows that the data is very sparse,(sparsity=99.9%)."
   ]
  },
  {
   "cell_type": "code",
   "execution_count": null,
   "id": "9d92c0a6",
   "metadata": {},
   "outputs": [],
   "source": [
    "df.info()"
   ]
  },
  {
   "cell_type": "code",
   "execution_count": null,
   "id": "0b1159bc",
   "metadata": {},
   "outputs": [],
   "source": [
    "df.isnull()"
   ]
  },
  {
   "cell_type": "markdown",
   "id": "8f5df47a",
   "metadata": {},
   "source": [
    "Then, we plot the distribution of different rating matrix:"
   ]
  },
  {
   "cell_type": "code",
   "execution_count": null,
   "id": "93ab5da7",
   "metadata": {},
   "outputs": [],
   "source": [
    "ratings = df.values.reshape(-1, 1)"
   ]
  },
  {
   "cell_type": "code",
   "execution_count": null,
   "id": "d577728f",
   "metadata": {},
   "outputs": [],
   "source": [
    "plt.hist(ratings, bins=8, ec='black')\n",
    "plt.xlabel('Rating')\n",
    "plt.ylabel('Count')\n",
    "plt.title('Distribution of Rating Matrix')\n",
    "plt.show()"
   ]
  },
  {
   "cell_type": "markdown",
   "id": "5b140683",
   "metadata": {},
   "source": [
    "We can see that majority of the rating matrix is between -0.25 to 0.2."
   ]
  },
  {
   "cell_type": "markdown",
   "id": "8045114e",
   "metadata": {},
   "source": [
    "# Splitting the dataset"
   ]
  },
  {
   "cell_type": "markdown",
   "id": "ac1f8c41",
   "metadata": {},
   "source": [
    "Next, We split the dataset into training and test sets."
   ]
  },
  {
   "cell_type": "code",
   "execution_count": null,
   "id": "72d95c96",
   "metadata": {},
   "outputs": [],
   "source": [
    "def split_df(df, num_users, num_items, split_mode='random', test_ratio=0.1):\n",
    "\n",
    "  if split_mode == 'random':\n",
    "    mask = [True if x == 1 else False for x in np.random.uniform(0, 1, (len(df))) < 1 - test_ratio]\n",
    "    neg_mask = [not x for x in mask]\n",
    "    train_data, test_data = df[mask], df[neg_mask]\n",
    "    return train_data, test_data"
   ]
  },
  {
   "cell_type": "code",
   "execution_count": null,
   "id": "84adc7d6",
   "metadata": {},
   "outputs": [],
   "source": [
    "train_data, test_data = split_df(df, num_users, num_items, split_mode='random', test_ratio=0.1)"
   ]
  },
  {
   "cell_type": "code",
   "execution_count": 11,
   "id": "e4ba470b",
   "metadata": {},
   "outputs": [
    {
     "data": {
      "text/html": [
       "<div>\n",
       "<style scoped>\n",
       "    .dataframe tbody tr th:only-of-type {\n",
       "        vertical-align: middle;\n",
       "    }\n",
       "\n",
       "    .dataframe tbody tr th {\n",
       "        vertical-align: top;\n",
       "    }\n",
       "\n",
       "    .dataframe thead th {\n",
       "        text-align: right;\n",
       "    }\n",
       "</style>\n",
       "<table border=\"1\" class=\"dataframe\">\n",
       "  <thead>\n",
       "    <tr style=\"text-align: right;\">\n",
       "      <th>itemid</th>\n",
       "      <th>1</th>\n",
       "      <th>2</th>\n",
       "      <th>3</th>\n",
       "      <th>4</th>\n",
       "      <th>5</th>\n",
       "      <th>6</th>\n",
       "      <th>7</th>\n",
       "      <th>8</th>\n",
       "      <th>9</th>\n",
       "      <th>10</th>\n",
       "      <th>...</th>\n",
       "      <th>5816</th>\n",
       "      <th>5817</th>\n",
       "      <th>5818</th>\n",
       "      <th>5819</th>\n",
       "      <th>5820</th>\n",
       "      <th>5821</th>\n",
       "      <th>5822</th>\n",
       "      <th>5823</th>\n",
       "      <th>5824</th>\n",
       "      <th>5825</th>\n",
       "    </tr>\n",
       "    <tr>\n",
       "      <th>userid</th>\n",
       "      <th></th>\n",
       "      <th></th>\n",
       "      <th></th>\n",
       "      <th></th>\n",
       "      <th></th>\n",
       "      <th></th>\n",
       "      <th></th>\n",
       "      <th></th>\n",
       "      <th></th>\n",
       "      <th></th>\n",
       "      <th></th>\n",
       "      <th></th>\n",
       "      <th></th>\n",
       "      <th></th>\n",
       "      <th></th>\n",
       "      <th></th>\n",
       "      <th></th>\n",
       "      <th></th>\n",
       "      <th></th>\n",
       "      <th></th>\n",
       "      <th></th>\n",
       "    </tr>\n",
       "  </thead>\n",
       "  <tbody>\n",
       "    <tr>\n",
       "      <th>3</th>\n",
       "      <td>0.866</td>\n",
       "      <td>0.227</td>\n",
       "      <td>0.233</td>\n",
       "      <td>0.220</td>\n",
       "      <td>0.221</td>\n",
       "      <td>0.366</td>\n",
       "      <td>0.836</td>\n",
       "      <td>0.863</td>\n",
       "      <td>0.372</td>\n",
       "      <td>0.619</td>\n",
       "      <td>...</td>\n",
       "      <td>-1</td>\n",
       "      <td>0.413</td>\n",
       "      <td>0.150</td>\n",
       "      <td>0.173</td>\n",
       "      <td>0.091</td>\n",
       "      <td>0.568</td>\n",
       "      <td>0.092</td>\n",
       "      <td>0.164</td>\n",
       "      <td>0.090</td>\n",
       "      <td>0.095</td>\n",
       "    </tr>\n",
       "    <tr>\n",
       "      <th>4</th>\n",
       "      <td>1.833</td>\n",
       "      <td>0.251</td>\n",
       "      <td>0.257</td>\n",
       "      <td>0.261</td>\n",
       "      <td>0.239</td>\n",
       "      <td>0.254</td>\n",
       "      <td>0.896</td>\n",
       "      <td>0.920</td>\n",
       "      <td>0.421</td>\n",
       "      <td>0.860</td>\n",
       "      <td>...</td>\n",
       "      <td>-1</td>\n",
       "      <td>0.390</td>\n",
       "      <td>0.195</td>\n",
       "      <td>0.476</td>\n",
       "      <td>0.296</td>\n",
       "      <td>0.340</td>\n",
       "      <td>0.251</td>\n",
       "      <td>1.059</td>\n",
       "      <td>0.412</td>\n",
       "      <td>0.247</td>\n",
       "    </tr>\n",
       "    <tr>\n",
       "      <th>18</th>\n",
       "      <td>3.236</td>\n",
       "      <td>0.268</td>\n",
       "      <td>0.278</td>\n",
       "      <td>0.259</td>\n",
       "      <td>0.260</td>\n",
       "      <td>2.493</td>\n",
       "      <td>0.688</td>\n",
       "      <td>1.053</td>\n",
       "      <td>0.467</td>\n",
       "      <td>0.813</td>\n",
       "      <td>...</td>\n",
       "      <td>-1</td>\n",
       "      <td>0.615</td>\n",
       "      <td>0.337</td>\n",
       "      <td>0.713</td>\n",
       "      <td>0.537</td>\n",
       "      <td>0.448</td>\n",
       "      <td>0.490</td>\n",
       "      <td>0.490</td>\n",
       "      <td>0.481</td>\n",
       "      <td>0.460</td>\n",
       "    </tr>\n",
       "    <tr>\n",
       "      <th>21</th>\n",
       "      <td>6.892</td>\n",
       "      <td>0.268</td>\n",
       "      <td>0.276</td>\n",
       "      <td>0.259</td>\n",
       "      <td>1.364</td>\n",
       "      <td>0.283</td>\n",
       "      <td>0.657</td>\n",
       "      <td>1.007</td>\n",
       "      <td>0.449</td>\n",
       "      <td>0.925</td>\n",
       "      <td>...</td>\n",
       "      <td>-1</td>\n",
       "      <td>0.507</td>\n",
       "      <td>0.121</td>\n",
       "      <td>0.708</td>\n",
       "      <td>0.204</td>\n",
       "      <td>0.310</td>\n",
       "      <td>0.220</td>\n",
       "      <td>0.319</td>\n",
       "      <td>0.204</td>\n",
       "      <td>0.212</td>\n",
       "    </tr>\n",
       "    <tr>\n",
       "      <th>56</th>\n",
       "      <td>0.814</td>\n",
       "      <td>0.219</td>\n",
       "      <td>0.229</td>\n",
       "      <td>0.211</td>\n",
       "      <td>0.212</td>\n",
       "      <td>0.453</td>\n",
       "      <td>0.880</td>\n",
       "      <td>0.907</td>\n",
       "      <td>0.354</td>\n",
       "      <td>0.580</td>\n",
       "      <td>...</td>\n",
       "      <td>-1</td>\n",
       "      <td>0.256</td>\n",
       "      <td>0.053</td>\n",
       "      <td>0.460</td>\n",
       "      <td>0.201</td>\n",
       "      <td>0.175</td>\n",
       "      <td>0.232</td>\n",
       "      <td>0.318</td>\n",
       "      <td>0.196</td>\n",
       "      <td>0.212</td>\n",
       "    </tr>\n",
       "    <tr>\n",
       "      <th>...</th>\n",
       "      <td>...</td>\n",
       "      <td>...</td>\n",
       "      <td>...</td>\n",
       "      <td>...</td>\n",
       "      <td>...</td>\n",
       "      <td>...</td>\n",
       "      <td>...</td>\n",
       "      <td>...</td>\n",
       "      <td>...</td>\n",
       "      <td>...</td>\n",
       "      <td>...</td>\n",
       "      <td>...</td>\n",
       "      <td>...</td>\n",
       "      <td>...</td>\n",
       "      <td>...</td>\n",
       "      <td>...</td>\n",
       "      <td>...</td>\n",
       "      <td>...</td>\n",
       "      <td>...</td>\n",
       "      <td>...</td>\n",
       "      <td>...</td>\n",
       "    </tr>\n",
       "    <tr>\n",
       "      <th>279</th>\n",
       "      <td>6.022</td>\n",
       "      <td>0.321</td>\n",
       "      <td>0.328</td>\n",
       "      <td>0.311</td>\n",
       "      <td>0.313</td>\n",
       "      <td>6.582</td>\n",
       "      <td>5.550</td>\n",
       "      <td>0.828</td>\n",
       "      <td>0.563</td>\n",
       "      <td>6.126</td>\n",
       "      <td>...</td>\n",
       "      <td>-1</td>\n",
       "      <td>5.661</td>\n",
       "      <td>5.466</td>\n",
       "      <td>5.801</td>\n",
       "      <td>5.381</td>\n",
       "      <td>5.383</td>\n",
       "      <td>5.450</td>\n",
       "      <td>5.443</td>\n",
       "      <td>5.530</td>\n",
       "      <td>5.384</td>\n",
       "    </tr>\n",
       "    <tr>\n",
       "      <th>310</th>\n",
       "      <td>0.861</td>\n",
       "      <td>0.225</td>\n",
       "      <td>0.232</td>\n",
       "      <td>0.211</td>\n",
       "      <td>0.212</td>\n",
       "      <td>0.411</td>\n",
       "      <td>0.541</td>\n",
       "      <td>0.534</td>\n",
       "      <td>0.372</td>\n",
       "      <td>0.540</td>\n",
       "      <td>...</td>\n",
       "      <td>-1</td>\n",
       "      <td>0.461</td>\n",
       "      <td>0.221</td>\n",
       "      <td>0.457</td>\n",
       "      <td>0.064</td>\n",
       "      <td>0.091</td>\n",
       "      <td>0.089</td>\n",
       "      <td>0.093</td>\n",
       "      <td>0.064</td>\n",
       "      <td>0.093</td>\n",
       "    </tr>\n",
       "    <tr>\n",
       "      <th>311</th>\n",
       "      <td>6.247</td>\n",
       "      <td>0.239</td>\n",
       "      <td>0.295</td>\n",
       "      <td>0.229</td>\n",
       "      <td>0.227</td>\n",
       "      <td>0.448</td>\n",
       "      <td>0.563</td>\n",
       "      <td>0.866</td>\n",
       "      <td>0.398</td>\n",
       "      <td>0.677</td>\n",
       "      <td>...</td>\n",
       "      <td>-1</td>\n",
       "      <td>0.618</td>\n",
       "      <td>18.519</td>\n",
       "      <td>0.586</td>\n",
       "      <td>0.400</td>\n",
       "      <td>0.435</td>\n",
       "      <td>0.383</td>\n",
       "      <td>0.330</td>\n",
       "      <td>0.496</td>\n",
       "      <td>0.417</td>\n",
       "    </tr>\n",
       "    <tr>\n",
       "      <th>312</th>\n",
       "      <td>8.351</td>\n",
       "      <td>0.233</td>\n",
       "      <td>0.245</td>\n",
       "      <td>0.227</td>\n",
       "      <td>0.225</td>\n",
       "      <td>0.333</td>\n",
       "      <td>1.012</td>\n",
       "      <td>0.966</td>\n",
       "      <td>0.401</td>\n",
       "      <td>0.610</td>\n",
       "      <td>...</td>\n",
       "      <td>-1</td>\n",
       "      <td>0.299</td>\n",
       "      <td>0.128</td>\n",
       "      <td>0.183</td>\n",
       "      <td>0.139</td>\n",
       "      <td>0.146</td>\n",
       "      <td>0.237</td>\n",
       "      <td>0.168</td>\n",
       "      <td>0.134</td>\n",
       "      <td>0.134</td>\n",
       "    </tr>\n",
       "    <tr>\n",
       "      <th>317</th>\n",
       "      <td>4.221</td>\n",
       "      <td>0.275</td>\n",
       "      <td>0.275</td>\n",
       "      <td>0.254</td>\n",
       "      <td>0.254</td>\n",
       "      <td>0.247</td>\n",
       "      <td>0.742</td>\n",
       "      <td>1.120</td>\n",
       "      <td>0.449</td>\n",
       "      <td>3.751</td>\n",
       "      <td>...</td>\n",
       "      <td>-1</td>\n",
       "      <td>0.292</td>\n",
       "      <td>0.096</td>\n",
       "      <td>0.216</td>\n",
       "      <td>0.183</td>\n",
       "      <td>0.195</td>\n",
       "      <td>0.184</td>\n",
       "      <td>0.178</td>\n",
       "      <td>0.194</td>\n",
       "      <td>0.190</td>\n",
       "    </tr>\n",
       "  </tbody>\n",
       "</table>\n",
       "<p>36 rows × 5825 columns</p>\n",
       "</div>"
      ],
      "text/plain": [
       "itemid   1      2      3      4      5      6      7      8      9      10    \\\n",
       "userid                                                                         \n",
       "3       0.866  0.227  0.233  0.220  0.221  0.366  0.836  0.863  0.372  0.619   \n",
       "4       1.833  0.251  0.257  0.261  0.239  0.254  0.896  0.920  0.421  0.860   \n",
       "18      3.236  0.268  0.278  0.259  0.260  2.493  0.688  1.053  0.467  0.813   \n",
       "21      6.892  0.268  0.276  0.259  1.364  0.283  0.657  1.007  0.449  0.925   \n",
       "56      0.814  0.219  0.229  0.211  0.212  0.453  0.880  0.907  0.354  0.580   \n",
       "...       ...    ...    ...    ...    ...    ...    ...    ...    ...    ...   \n",
       "279     6.022  0.321  0.328  0.311  0.313  6.582  5.550  0.828  0.563  6.126   \n",
       "310     0.861  0.225  0.232  0.211  0.212  0.411  0.541  0.534  0.372  0.540   \n",
       "311     6.247  0.239  0.295  0.229  0.227  0.448  0.563  0.866  0.398  0.677   \n",
       "312     8.351  0.233  0.245  0.227  0.225  0.333  1.012  0.966  0.401  0.610   \n",
       "317     4.221  0.275  0.275  0.254  0.254  0.247  0.742  1.120  0.449  3.751   \n",
       "\n",
       "itemid  ...  5816   5817    5818   5819   5820   5821   5822   5823   5824  \\\n",
       "userid  ...                                                                  \n",
       "3       ...    -1  0.413   0.150  0.173  0.091  0.568  0.092  0.164  0.090   \n",
       "4       ...    -1  0.390   0.195  0.476  0.296  0.340  0.251  1.059  0.412   \n",
       "18      ...    -1  0.615   0.337  0.713  0.537  0.448  0.490  0.490  0.481   \n",
       "21      ...    -1  0.507   0.121  0.708  0.204  0.310  0.220  0.319  0.204   \n",
       "56      ...    -1  0.256   0.053  0.460  0.201  0.175  0.232  0.318  0.196   \n",
       "...     ...   ...    ...     ...    ...    ...    ...    ...    ...    ...   \n",
       "279     ...    -1  5.661   5.466  5.801  5.381  5.383  5.450  5.443  5.530   \n",
       "310     ...    -1  0.461   0.221  0.457  0.064  0.091  0.089  0.093  0.064   \n",
       "311     ...    -1  0.618  18.519  0.586  0.400  0.435  0.383  0.330  0.496   \n",
       "312     ...    -1  0.299   0.128  0.183  0.139  0.146  0.237  0.168  0.134   \n",
       "317     ...    -1  0.292   0.096  0.216  0.183  0.195  0.184  0.178  0.194   \n",
       "\n",
       "itemid   5825  \n",
       "userid         \n",
       "3       0.095  \n",
       "4       0.247  \n",
       "18      0.460  \n",
       "21      0.212  \n",
       "56      0.212  \n",
       "...       ...  \n",
       "279     5.384  \n",
       "310     0.093  \n",
       "311     0.417  \n",
       "312     0.134  \n",
       "317     0.190  \n",
       "\n",
       "[36 rows x 5825 columns]"
      ]
     },
     "execution_count": 11,
     "metadata": {},
     "output_type": "execute_result"
    }
   ],
   "source": [
    "test_data"
   ]
  },
  {
   "cell_type": "markdown",
   "id": "5e4eddd7",
   "metadata": {},
   "source": [
    "# Loading the data"
   ]
  },
  {
   "cell_type": "markdown",
   "id": "e9c3f3e1",
   "metadata": {},
   "source": [
    "After dataset splitting, we will convert the training set and test set into lists and dictionaries/matrix\n",
    "for the sake of convenience."
   ]
  },
  {
   "cell_type": "code",
   "execution_count": 12,
   "id": "24578357",
   "metadata": {},
   "outputs": [],
   "source": [
    "def load_df(df, num_users, num_items, feedback='explicit'):\n",
    "    users, items, scores = [], [], []\n",
    "    inter = np.zeros((num_items, num_users)) if feedback == 'explicit' else {}\n",
    "    for line in df.itertuples():\n",
    "        user_index, item_index = int(line[1] - 1), int(line[2] - 1)\n",
    "        score = int(line[3]) if feedback == 'explicit' else 1\n",
    "        users.append(user_index)\n",
    "        items.append(item_index)\n",
    "        scores.append(score)\n",
    "        if feedback == 'implicit':\n",
    "            inter.setdefault(user_index, []).append(item_index)\n",
    "        else:\n",
    "            inter[item_index, user_index] = score\n",
    "    return users, items, scores, inter"
   ]
  },
  {
   "cell_type": "markdown",
   "id": "d42c8cf1",
   "metadata": {},
   "source": [
    "Afterwards, we put the above two functions together and it will be used during training the model."
   ]
  },
  {
   "cell_type": "code",
   "execution_count": 13,
   "id": "deb0f439",
   "metadata": {},
   "outputs": [],
   "source": [
    "def split_and_load(split_mode='random', feedback='explicit', test_ratio=0.1, batch_size=256):\n",
    "    df3, num_users, num_items = df, df.shape[0], df.shape[1]\n",
    "    train_data, test_data = split_df(df3, num_users, num_items, split_mode, test_ratio)\n",
    "    train_u, train_i, train_r, _ = load_df(train_data, num_users, num_items, feedback)\n",
    "    test_u, test_i, test_r, _ = load_df(test_data, num_users, num_items, feedback)\n",
    "    train_set = gluon.data.ArrayDataset(np.array(train_u), np.array(train_i), np.array(train_r))\n",
    "    test_set = gluon.data.ArrayDataset(np.array(test_u), np.array(test_i), np.array(test_r))\n",
    "    train_iter = gluon.data.DataLoader(train_set, shuffle=True, last_batch='rollover', batch_size=batch_size)\n",
    "    test_iter = gluon.data.DataLoader(test_set, batch_size=batch_size)\n",
    "    return num_users, num_items, train_iter, test_iter"
   ]
  },
  {
   "cell_type": "markdown",
   "id": "06b05361",
   "metadata": {},
   "source": [
    "Next, we define two functions which will allow the model to use GPUs or CPU otherwise: "
   ]
  },
  {
   "cell_type": "code",
   "execution_count": 14,
   "id": "adf416a4",
   "metadata": {},
   "outputs": [
    {
     "ename": "NameError",
     "evalue": "name 'npx' is not defined",
     "output_type": "error",
     "traceback": [
      "\u001b[0;31m---------------------------------------------------------------------------\u001b[0m",
      "\u001b[0;31mNameError\u001b[0m                                 Traceback (most recent call last)",
      "Cell \u001b[0;32mIn[14], line 7\u001b[0m\n\u001b[1;32m      5\u001b[0m   ctxes \u001b[38;5;241m=\u001b[39m [npx\u001b[38;5;241m.\u001b[39mgpu(i) \u001b[38;5;28;01mfor\u001b[39;00m i \u001b[38;5;129;01min\u001b[39;00m \u001b[38;5;28mrange\u001b[39m(npx\u001b[38;5;241m.\u001b[39mnum_gpus())]\n\u001b[1;32m      6\u001b[0m   \u001b[38;5;28;01mreturn\u001b[39;00m ctxes \u001b[38;5;28;01mif\u001b[39;00m ctxes \u001b[38;5;28;01melse\u001b[39;00m [npx\u001b[38;5;241m.\u001b[39mcpu()]\n\u001b[0;32m----> 7\u001b[0m try_gpu(), try_gpu(\u001b[38;5;241m3\u001b[39m), try_all_gpus()\n",
      "Cell \u001b[0;32mIn[14], line 2\u001b[0m, in \u001b[0;36mtry_gpu\u001b[0;34m(i)\u001b[0m\n\u001b[1;32m      1\u001b[0m \u001b[38;5;28;01mdef\u001b[39;00m \u001b[38;5;21mtry_gpu\u001b[39m(i\u001b[38;5;241m=\u001b[39m\u001b[38;5;241m0\u001b[39m):\n\u001b[0;32m----> 2\u001b[0m   \u001b[38;5;28;01mreturn\u001b[39;00m npx\u001b[38;5;241m.\u001b[39mgpu(i) \u001b[38;5;28;01mif\u001b[39;00m npx\u001b[38;5;241m.\u001b[39mnum_gpus() \u001b[38;5;241m>\u001b[39m\u001b[38;5;241m=\u001b[39m i \u001b[38;5;241m+\u001b[39m \u001b[38;5;241m1\u001b[39m \u001b[38;5;28;01melse\u001b[39;00m npx\u001b[38;5;241m.\u001b[39mcpu()\n",
      "\u001b[0;31mNameError\u001b[0m: name 'npx' is not defined"
     ]
    }
   ],
   "source": [
    "def try_gpu(i=0):\n",
    "  return npx.gpu(i) if npx.num_gpus() >= i + 1 else npx.cpu()\n",
    "\n",
    "def try_all_gpus():\n",
    "  ctxes = [npx.gpu(i) for i in range(npx.num_gpus())]\n",
    "  return ctxes if ctxes else [npx.cpu()]\n",
    "try_gpu(), try_gpu(3), try_all_gpus()"
   ]
  },
  {
   "cell_type": "markdown",
   "id": "3eebf2cc",
   "metadata": {},
   "source": [
    "Then, we create a function that will record multiple running times: "
   ]
  },
  {
   "cell_type": "code",
   "execution_count": 15,
   "id": "ca3e34f9",
   "metadata": {},
   "outputs": [],
   "source": [
    "import math\n",
    "import time\n",
    "class Timer:\n",
    "  def __init__(self):\n",
    "    self.times = []\n",
    "    self.start()\n",
    "  def start(self):\n",
    "    self.tik = time.time()\n",
    "  def stop(self):\n",
    "    self.times.append(time.time() - self.tik)\n",
    "    return self.times[-1]\n",
    "  def avg(self):\n",
    "    return sum(self.times) / len(self.times)\n",
    "  def sum(self):\n",
    "    return sum(self.times)\n",
    "  def cumsum(self):\n",
    "    return np.array(self.times).cumsum().tolist()"
   ]
  },
  {
   "cell_type": "markdown",
   "id": "70b5867e",
   "metadata": {},
   "source": [
    "Then, we create a function and use the svg format display in the jupyter."
   ]
  },
  {
   "cell_type": "code",
   "execution_count": 16,
   "id": "50aa97e2",
   "metadata": {},
   "outputs": [],
   "source": [
    "def use_svg_display():\n",
    "  display.set_matplotlib_formats('svg')"
   ]
  },
  {
   "cell_type": "markdown",
   "id": "73fa6f0c",
   "metadata": {},
   "source": [
    "Then, a function that set the axes for matplotlib:"
   ]
  },
  {
   "cell_type": "code",
   "execution_count": 17,
   "id": "dc65dd0c",
   "metadata": {},
   "outputs": [],
   "source": [
    "def set_axes(axes, xlabel, ylabel, xlim, ylim, xscale, yscale, legend):\n",
    "  axes.set_xlabel(xlabel)\n",
    "  axes.set_ylabel(ylabel)\n",
    "  axes.set_xscale(xscale)\n",
    "  axes.set_yscale(yscale)\n",
    "  axes.set_xlim(xlim)\n",
    "  axes.set_ylim(ylim)\n",
    "  if legend:\n",
    "    axes.legend(legend)\n",
    "    axes.grid()"
   ]
  },
  {
   "cell_type": "markdown",
   "id": "5451dd5f",
   "metadata": {},
   "source": [
    "Then, a function that incrementally plot the lines and add multiple datapoints into the figure:"
   ]
  },
  {
   "cell_type": "code",
   "execution_count": 18,
   "id": "4f2385ed",
   "metadata": {},
   "outputs": [],
   "source": [
    "class Animator:\n",
    "  def __init__(self, xlabel=None, ylabel=None, legend=None, xlim=None, ylim=None, xscale='linear', yscale='linear', fmts=None, nrows=1, ncols=1, figsize=(4, 5)):\n",
    "    if legend is None:\n",
    "      legend = []\n",
    "    use_svg_display()\n",
    "    self.fig, self.axes = plt.subplots(nrows, ncols, figsize=figsize)\n",
    "    if nrows * ncols == 1:\n",
    "      self.axes = [self.axes, ]\n",
    "    self.config_axes = lambda: set_axes(self.axes[0], xlabel, ylabel, xlim, ylim, xscale, yscale, legend)\n",
    "    self.X, self.Y, self.fmts = None, None, fmts\n",
    "\n",
    "  def add(self, x, y):\n",
    "    if not hasattr(y, \"__len__\"):\n",
    "      y = [y]\n",
    "    n = len(y)\n",
    "    if not hasattr(x, \"__len__\"):\n",
    "      x = [x] * n\n",
    "    if not self.X:\n",
    "      self.X = [[] for _ in range(n)]\n",
    "    if not self.Y:\n",
    "      self.Y = [[] for _ in range(n)]\n",
    "    if not self.fmts:\n",
    "      self.fmts = ['-'] * n\n",
    "    for i, (a, b) in enumerate(zip(x, y)):\n",
    "      if a is not None and b is not None:\n",
    "        self.X[i].append(a)\n",
    "        self.Y[i].append(b)\n",
    "    self.axes[0].cla()\n",
    "    for x, y, fmt in zip(self.X, self.Y, self.fmts):\n",
    "      self.axes[0].plot(x, y, fmt)\n",
    "    self.config_axes()\n",
    "    display.display(self.fig)\n",
    "    display.clear_output(wait=True)"
   ]
  },
  {
   "cell_type": "markdown",
   "id": "74275af2",
   "metadata": {},
   "source": [
    "Then, a function that create a list of numbers over time:"
   ]
  },
  {
   "cell_type": "code",
   "execution_count": 19,
   "id": "d68daf33",
   "metadata": {},
   "outputs": [],
   "source": [
    "class Accumulator:\n",
    "  def __init__(self, n):\n",
    "    self.data = [0.0] * n\n",
    "  def add(self, *args):\n",
    "    self.data = [a+float(b) for a, b in zip(self.data, args)]\n",
    "  def reset(self):\n",
    "    self.data = [0] * len(self.data)\n",
    "  def __getitem__(self, idx):\n",
    "    return self.data[idx]"
   ]
  },
  {
   "cell_type": "markdown",
   "id": "8403f983",
   "metadata": {},
   "source": [
    "# Model Implementation"
   ]
  },
  {
   "cell_type": "code",
   "execution_count": 20,
   "id": "4ef9b489",
   "metadata": {},
   "outputs": [],
   "source": [
    "\n",
    "\n",
    "import math as mt\n",
    "from scipy.sparse.linalg import * \n",
    "from scipy.sparse.linalg import svds\n",
    "from scipy.sparse import csc_matrix\n",
    "\n",
    "\n",
    "\n",
    "def comp_svd(urm, K):\n",
    "    U, s, Vt = svds(urm, K)\n",
    "\n",
    "    dim = (len(s), len(s))\n",
    "    S = np.zeros(dim, dtype=np.float32)\n",
    "    for i in range(0, len(s)):\n",
    "        S[i,i] = mt.sqrt(s[i])\n",
    "\n",
    "    U = csc_matrix(U, dtype=np.float32)\n",
    "    S = csc_matrix(S, dtype=np.float32)\n",
    "    Vt = csc_matrix(Vt, dtype=np.float32)\n",
    "    \n",
    "    return U, S, Vt\n",
    "\n",
    "def comp_est_matx(urm, U, S, Vt, uTest, K, test):\n",
    "    rightTerm = S*Vt \n",
    "    max_recommendation = 250\n",
    "    estimatedRatings = np.zeros(shape=(MAX_UID, MAX_PID), dtype=np.float16)\n",
    "    recomendRatings = np.zeros(shape=(MAX_UID,max_recommendation ), dtype=np.float16)\n",
    "    for userTest in uTest:\n",
    "        prod = U[userTest, :]*rightTerm\n",
    "        estimatedRatings[userTest, :] = prod.todense()\n",
    "        recomendRatings[userTest, :] = (-estimatedRatings[userTest, :]).argsort()[:max_recommendation]\n",
    "    return recomendRatings"
   ]
  },
  {
   "cell_type": "code",
   "execution_count": 21,
   "id": "5c1fa6e5",
   "metadata": {},
   "outputs": [
    {
     "ename": "TypeError",
     "evalue": "'numpy.float64' object cannot be interpreted as an integer",
     "output_type": "error",
     "traceback": [
      "\u001b[0;31m---------------------------------------------------------------------------\u001b[0m",
      "\u001b[0;31mTypeError\u001b[0m                                 Traceback (most recent call last)",
      "Cell \u001b[0;32mIn[21], line 6\u001b[0m\n\u001b[1;32m      4\u001b[0m row_array \u001b[38;5;241m=\u001b[39m df\u001b[38;5;241m.\u001b[39miloc[\u001b[38;5;241m1\u001b[39m:\u001b[38;5;241m338\u001b[39m]\u001b[38;5;241m.\u001b[39mvalues\n\u001b[1;32m      5\u001b[0m col_array \u001b[38;5;241m=\u001b[39m df[\u001b[38;5;241m1\u001b[39m:\u001b[38;5;241m5826\u001b[39m]\u001b[38;5;241m.\u001b[39mvalues\n\u001b[0;32m----> 6\u001b[0m data_sparse \u001b[38;5;241m=\u001b[39m coo_matrix((data_array, (row_array, col_array)))\n\u001b[1;32m      7\u001b[0m \u001b[38;5;66;03m#data_sparse = sparse.csr_matrix(data_array)\u001b[39;00m\n\u001b[1;32m     10\u001b[0m K\u001b[38;5;241m=\u001b[39m\u001b[38;5;241m50\u001b[39m\n",
      "File \u001b[0;32m~/anaconda3/envs/my_env/lib/python3.11/site-packages/scipy/sparse/_coo.py:150\u001b[0m, in \u001b[0;36mcoo_matrix.__init__\u001b[0;34m(self, arg1, shape, dtype, copy)\u001b[0m\n\u001b[1;32m    147\u001b[0m \u001b[38;5;28;01mif\u001b[39;00m \u001b[38;5;28mlen\u001b[39m(row) \u001b[38;5;241m==\u001b[39m \u001b[38;5;241m0\u001b[39m \u001b[38;5;129;01mor\u001b[39;00m \u001b[38;5;28mlen\u001b[39m(col) \u001b[38;5;241m==\u001b[39m \u001b[38;5;241m0\u001b[39m:\n\u001b[1;32m    148\u001b[0m     \u001b[38;5;28;01mraise\u001b[39;00m \u001b[38;5;167;01mValueError\u001b[39;00m(\u001b[38;5;124m'\u001b[39m\u001b[38;5;124mcannot infer dimensions from zero \u001b[39m\u001b[38;5;124m'\u001b[39m\n\u001b[1;32m    149\u001b[0m                      \u001b[38;5;124m'\u001b[39m\u001b[38;5;124msized index arrays\u001b[39m\u001b[38;5;124m'\u001b[39m)\n\u001b[0;32m--> 150\u001b[0m M \u001b[38;5;241m=\u001b[39m operator\u001b[38;5;241m.\u001b[39mindex(np\u001b[38;5;241m.\u001b[39mmax(row)) \u001b[38;5;241m+\u001b[39m \u001b[38;5;241m1\u001b[39m\n\u001b[1;32m    151\u001b[0m N \u001b[38;5;241m=\u001b[39m operator\u001b[38;5;241m.\u001b[39mindex(np\u001b[38;5;241m.\u001b[39mmax(col)) \u001b[38;5;241m+\u001b[39m \u001b[38;5;241m1\u001b[39m\n\u001b[1;32m    152\u001b[0m \u001b[38;5;28mself\u001b[39m\u001b[38;5;241m.\u001b[39m_shape \u001b[38;5;241m=\u001b[39m check_shape((M, N))\n",
      "\u001b[0;31mTypeError\u001b[0m: 'numpy.float64' object cannot be interpreted as an integer"
     ]
    }
   ],
   "source": [
    "from scipy.sparse import coo_matrix\n",
    "from scipy import sparse\n",
    "data_array = df.values\n",
    "row_array = df.iloc[1:338].values\n",
    "col_array = df[1:5826].values\n",
    "data_sparse = coo_matrix((data_array, (row_array, col_array)))\n",
    "#data_sparse = sparse.csr_matrix(data_array)\n",
    "\n",
    "\n",
    "K=50\n",
    "urm = data_sparse\n",
    "MAX_PID = urm.shape[1]\n",
    "MAX_UID = urm.shape[0]\n",
    "\n",
    "U, S, Vt = comp_svd(urm, K)\n",
    "uTest = [10]\n",
    "#Get estimated rating for test user\n",
    "print(\"Predicted ratings:\")\n",
    "uTest_recommended_items = comp_est_matx(urm, U, S, Vt, uTest, K, True)\n",
    "#uTest_recommended_items\n",
    "\n",
    "for user in uTest:\n",
    "    print(\"Recommendation for user with user id {}\". format(user))\n",
    "    rank_value = 1\n",
    "    for i in uTest_recommended_items[user,0:10]:\n",
    "        item_details = train_data.columns == i\n",
    "        print(\"The number {} recommended item is {} \".format(rank_value, list(item_details)[0]))\n",
    "        rank_value+=1\n",
    "        "
   ]
  },
  {
   "cell_type": "markdown",
   "id": "750ea119",
   "metadata": {},
   "source": [
    "# Evaluation Measures"
   ]
  },
  {
   "cell_type": "markdown",
   "id": "f1a87eea",
   "metadata": {},
   "source": [
    "We then implement the RMSE (root-mean-square error) measure:"
   ]
  },
  {
   "cell_type": "code",
   "execution_count": null,
   "id": "752e5e17",
   "metadata": {},
   "outputs": [],
   "source": []
  },
  {
   "cell_type": "markdown",
   "id": "c8e8a8aa",
   "metadata": {},
   "source": [
    "# Training and Evaluating the Model"
   ]
  },
  {
   "cell_type": "raw",
   "id": "d34d1b0d",
   "metadata": {},
   "source": []
  },
  {
   "cell_type": "code",
   "execution_count": 22,
   "id": "01056bd2",
   "metadata": {},
   "outputs": [],
   "source": [
    "from surprise import Dataset\n",
    "from surprise import Reader"
   ]
  },
  {
   "cell_type": "code",
   "execution_count": 23,
   "id": "e73a17c4",
   "metadata": {},
   "outputs": [],
   "source": []
  },
  {
   "cell_type": "code",
   "execution_count": null,
   "id": "e38c87c9",
   "metadata": {},
   "outputs": [],
   "source": []
  },
  {
   "cell_type": "code",
   "execution_count": 24,
   "id": "341d1c4b",
   "metadata": {},
   "outputs": [],
   "source": [
    "from lightfm import LightFM"
   ]
  },
  {
   "cell_type": "code",
   "execution_count": null,
   "id": "e5924422",
   "metadata": {},
   "outputs": [],
   "source": []
  },
  {
   "cell_type": "code",
   "execution_count": null,
   "id": "59c17128",
   "metadata": {},
   "outputs": [],
   "source": []
  },
  {
   "cell_type": "code",
   "execution_count": 25,
   "id": "bcb4d60e",
   "metadata": {},
   "outputs": [
    {
     "data": {
      "text/plain": [
       "<337x5825 sparse matrix of type '<class 'numpy.float64'>'\n",
       "\twith 1963025 stored elements in Compressed Sparse Row format>"
      ]
     },
     "execution_count": 25,
     "metadata": {},
     "output_type": "execute_result"
    }
   ],
   "source": [
    "train_sparse = sparse.csr_matrix(train_data)\n",
    "test_sparse = sparse.csr_matrix(test_data)\n",
    "\n"
   ]
  },
  {
   "cell_type": "code",
   "execution_count": null,
   "id": "dba1ed7e",
   "metadata": {},
   "outputs": [],
   "source": [
    "from lightfm.evaluation import precision_at_k\n",
    "from lightfm.evaluation import auc_score\n",
    "\n",
    "model = LightFM(learning_rate=0.05, loss='bpr')\n",
    "model.fit(data_sparse, epochs=10, num_threads=4)"
   ]
  },
  {
   "cell_type": "code",
   "execution_count": null,
   "id": "9c18bf6f",
   "metadata": {},
   "outputs": [],
   "source": []
  },
  {
   "cell_type": "code",
   "execution_count": null,
   "id": "c0814c70",
   "metadata": {},
   "outputs": [],
   "source": []
  },
  {
   "cell_type": "code",
   "execution_count": null,
   "id": "47065f0b",
   "metadata": {},
   "outputs": [],
   "source": []
  },
  {
   "cell_type": "code",
   "execution_count": null,
   "id": "042d6404",
   "metadata": {},
   "outputs": [],
   "source": []
  }
 ],
 "metadata": {
  "kernelspec": {
   "display_name": "Python 3 (ipykernel)",
   "language": "python",
   "name": "python3"
  },
  "language_info": {
   "codemirror_mode": {
    "name": "ipython",
    "version": 3
   },
   "file_extension": ".py",
   "mimetype": "text/x-python",
   "name": "python",
   "nbconvert_exporter": "python",
   "pygments_lexer": "ipython3",
   "version": "3.11.3"
  }
 },
 "nbformat": 4,
 "nbformat_minor": 5
}
