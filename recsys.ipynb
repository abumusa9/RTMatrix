{
  "cells": [
    {
      "cell_type": "markdown",
      "source": [
        "**Recommender System**"
      ],
      "metadata": {
        "id": "ECUUodg7Ah3C"
      }
    },
    {
      "cell_type": "markdown",
      "source": [
        "This is a recommender system using collaborating method. I used Matrix Factorisation algorithm to build the recommender. The dataset used is a real world rating matrix provided by Dabolinux Technology Company."
      ],
      "metadata": {
        "id": "QVkxQOrgAzgI"
      }
    },
    {
      "cell_type": "markdown",
      "source": [
        "First we start by downloading the dataset:"
      ],
      "metadata": {
        "id": "GCkPBwO8BZas"
      }
    },
    {
      "cell_type": "code",
      "execution_count": 1,
      "metadata": {
        "colab": {
          "base_uri": "https://localhost:8080/"
        },
        "id": "d-1mHbbrlF25",
        "outputId": "06392bf7-9c16-4421-dbe6-a34392c949ed"
      },
      "outputs": [
        {
          "output_type": "stream",
          "name": "stdout",
          "text": [
            "Collecting lightfm\n",
            "  Downloading lightfm-1.17.tar.gz (316 kB)\n",
            "\u001b[2K     \u001b[90m━━━━━━━━━━━━━━━━━━━━━━━━━━━━━━━━━━━━━━━\u001b[0m \u001b[32m316.4/316.4 kB\u001b[0m \u001b[31m4.4 MB/s\u001b[0m eta \u001b[36m0:00:00\u001b[0m\n",
            "\u001b[?25h  Preparing metadata (setup.py) ... \u001b[?25l\u001b[?25hdone\n",
            "Requirement already satisfied: numpy in /usr/local/lib/python3.10/dist-packages (from lightfm) (1.23.5)\n",
            "Requirement already satisfied: scipy>=0.17.0 in /usr/local/lib/python3.10/dist-packages (from lightfm) (1.10.1)\n",
            "Requirement already satisfied: requests in /usr/local/lib/python3.10/dist-packages (from lightfm) (2.31.0)\n",
            "Requirement already satisfied: scikit-learn in /usr/local/lib/python3.10/dist-packages (from lightfm) (1.2.2)\n",
            "Requirement already satisfied: charset-normalizer<4,>=2 in /usr/local/lib/python3.10/dist-packages (from requests->lightfm) (3.2.0)\n",
            "Requirement already satisfied: idna<4,>=2.5 in /usr/local/lib/python3.10/dist-packages (from requests->lightfm) (3.4)\n",
            "Requirement already satisfied: urllib3<3,>=1.21.1 in /usr/local/lib/python3.10/dist-packages (from requests->lightfm) (2.0.4)\n",
            "Requirement already satisfied: certifi>=2017.4.17 in /usr/local/lib/python3.10/dist-packages (from requests->lightfm) (2023.7.22)\n",
            "Requirement already satisfied: joblib>=1.1.1 in /usr/local/lib/python3.10/dist-packages (from scikit-learn->lightfm) (1.3.2)\n",
            "Requirement already satisfied: threadpoolctl>=2.0.0 in /usr/local/lib/python3.10/dist-packages (from scikit-learn->lightfm) (3.2.0)\n",
            "Building wheels for collected packages: lightfm\n",
            "  Building wheel for lightfm (setup.py) ... \u001b[?25l\u001b[?25hdone\n",
            "  Created wheel for lightfm: filename=lightfm-1.17-cp310-cp310-linux_x86_64.whl size=808331 sha256=eebc7ef677151b312d170677c9472d92f49ad7fbc3522c5b3f53aa0338635eab\n",
            "  Stored in directory: /root/.cache/pip/wheels/4f/9b/7e/0b256f2168511d8fa4dae4fae0200fdbd729eb424a912ad636\n",
            "Successfully built lightfm\n",
            "Installing collected packages: lightfm\n",
            "Successfully installed lightfm-1.17\n"
          ]
        }
      ],
      "source": [
        "pip install lightfm\n"
      ]
    },
    {
      "cell_type": "code",
      "execution_count": 2,
      "metadata": {
        "id": "xvMxSbwBlYvG"
      },
      "outputs": [],
      "source": [
        "import pandas as pd"
      ]
    },
    {
      "cell_type": "code",
      "execution_count": 3,
      "metadata": {
        "id": "Q4GWdziEl8QJ"
      },
      "outputs": [],
      "source": [
        "import numpy as np\n",
        "\n",
        "columns = [I for I in range(1, 5826)]"
      ]
    },
    {
      "cell_type": "code",
      "execution_count": 4,
      "metadata": {
        "id": "mOziCi4VnSjC"
      },
      "outputs": [],
      "source": [
        "df = pd.read_excel('rtmatric.xlsx', names=columns)"
      ]
    },
    {
      "cell_type": "code",
      "execution_count": 5,
      "metadata": {
        "id": "csiktQZIkrIb",
        "colab": {
          "base_uri": "https://localhost:8080/",
          "height": 475
        },
        "outputId": "845473df-a60b-426d-d025-eef7f7b1810d"
      },
      "outputs": [
        {
          "output_type": "execute_result",
          "data": {
            "text/plain": [
              "item_id   1      2      3      4      5      6      7      8      9      10    \\\n",
              "user_id                                                                         \n",
              "0        2.130  0.262  0.273  0.251  0.254  0.427  0.652  0.642  0.439  0.720   \n",
              "1        0.854  0.366  0.376  0.357  0.358  0.115  0.649  0.980  0.642  1.213   \n",
              "2        0.693  0.226  0.233  0.220  0.219  0.344  0.765  0.793  0.371  0.552   \n",
              "3        0.866  0.227  0.233  0.220  0.221  0.366  0.836  0.863  0.372  0.619   \n",
              "4        1.833  0.251  0.257  0.261  0.239  0.254  0.896  0.920  0.421  0.860   \n",
              "...        ...    ...    ...    ...    ...    ...    ...    ...    ...    ...   \n",
              "333      4.425  0.234  0.242  0.225  0.227  0.368  0.806  0.817  0.389  0.586   \n",
              "334      0.811  0.247  0.258  0.235  0.236  0.415  0.533  0.820  0.399  0.584   \n",
              "335      1.314  0.311  0.412  0.423  0.300  0.640  1.698  1.389  0.558  1.081   \n",
              "336      1.299  0.614  0.524  3.257  0.324  0.520  1.408  1.575  0.584  0.868   \n",
              "337      1.285  0.222  0.232  0.215  0.214  0.460  1.289  0.841  0.362  0.763   \n",
              "\n",
              "item_id  ...  5816   5817   5818   5819   5820   5821   5822    5823   5824  \\\n",
              "user_id  ...                                                                  \n",
              "0        ...    -1  0.499  0.164  0.457  0.280  0.270  0.287   2.308  0.254   \n",
              "1        ...    -1  0.814  0.516  0.786  0.610 -1.000 -1.000  10.455 -1.000   \n",
              "2        ...    -1  0.376  0.255  0.621  0.177  0.167  0.142   0.217  0.170   \n",
              "3        ...    -1  0.413  0.150  0.173  0.091  0.568  0.092   0.164  0.090   \n",
              "4        ...    -1  0.390  0.195  0.476  0.296  0.340  0.251   1.059  0.412   \n",
              "...      ...   ...    ...    ...    ...    ...    ...    ...     ...    ...   \n",
              "333      ...    -1  0.320  0.107  0.085  0.092  0.077  0.076   0.086  0.076   \n",
              "334      ...    -1  0.349 -1.000  0.401  0.188  0.141  0.144   0.142  0.174   \n",
              "335      ...    -1  0.800  0.409  3.539  0.755  0.587  0.877   0.715  1.002   \n",
              "336      ...    -1  0.877  0.540  0.721  0.528  0.496  0.675   0.455  1.275   \n",
              "337      ...    -1  0.640  0.297  0.429  0.164  0.250  0.160   0.184  0.136   \n",
              "\n",
              "item_id   5825  \n",
              "user_id         \n",
              "0        0.263  \n",
              "1       -1.000  \n",
              "2        0.173  \n",
              "3        0.095  \n",
              "4        0.247  \n",
              "...        ...  \n",
              "333      0.077  \n",
              "334      0.141  \n",
              "335      0.420  \n",
              "336      0.571  \n",
              "337      0.130  \n",
              "\n",
              "[338 rows x 5825 columns]"
            ],
            "text/html": [
              "\n",
              "  <div id=\"df-37cdb98a-010d-40be-91be-b865d15260b5\" class=\"colab-df-container\">\n",
              "    <div>\n",
              "<style scoped>\n",
              "    .dataframe tbody tr th:only-of-type {\n",
              "        vertical-align: middle;\n",
              "    }\n",
              "\n",
              "    .dataframe tbody tr th {\n",
              "        vertical-align: top;\n",
              "    }\n",
              "\n",
              "    .dataframe thead th {\n",
              "        text-align: right;\n",
              "    }\n",
              "</style>\n",
              "<table border=\"1\" class=\"dataframe\">\n",
              "  <thead>\n",
              "    <tr style=\"text-align: right;\">\n",
              "      <th>item_id</th>\n",
              "      <th>1</th>\n",
              "      <th>2</th>\n",
              "      <th>3</th>\n",
              "      <th>4</th>\n",
              "      <th>5</th>\n",
              "      <th>6</th>\n",
              "      <th>7</th>\n",
              "      <th>8</th>\n",
              "      <th>9</th>\n",
              "      <th>10</th>\n",
              "      <th>...</th>\n",
              "      <th>5816</th>\n",
              "      <th>5817</th>\n",
              "      <th>5818</th>\n",
              "      <th>5819</th>\n",
              "      <th>5820</th>\n",
              "      <th>5821</th>\n",
              "      <th>5822</th>\n",
              "      <th>5823</th>\n",
              "      <th>5824</th>\n",
              "      <th>5825</th>\n",
              "    </tr>\n",
              "    <tr>\n",
              "      <th>user_id</th>\n",
              "      <th></th>\n",
              "      <th></th>\n",
              "      <th></th>\n",
              "      <th></th>\n",
              "      <th></th>\n",
              "      <th></th>\n",
              "      <th></th>\n",
              "      <th></th>\n",
              "      <th></th>\n",
              "      <th></th>\n",
              "      <th></th>\n",
              "      <th></th>\n",
              "      <th></th>\n",
              "      <th></th>\n",
              "      <th></th>\n",
              "      <th></th>\n",
              "      <th></th>\n",
              "      <th></th>\n",
              "      <th></th>\n",
              "      <th></th>\n",
              "      <th></th>\n",
              "    </tr>\n",
              "  </thead>\n",
              "  <tbody>\n",
              "    <tr>\n",
              "      <th>0</th>\n",
              "      <td>2.130</td>\n",
              "      <td>0.262</td>\n",
              "      <td>0.273</td>\n",
              "      <td>0.251</td>\n",
              "      <td>0.254</td>\n",
              "      <td>0.427</td>\n",
              "      <td>0.652</td>\n",
              "      <td>0.642</td>\n",
              "      <td>0.439</td>\n",
              "      <td>0.720</td>\n",
              "      <td>...</td>\n",
              "      <td>-1</td>\n",
              "      <td>0.499</td>\n",
              "      <td>0.164</td>\n",
              "      <td>0.457</td>\n",
              "      <td>0.280</td>\n",
              "      <td>0.270</td>\n",
              "      <td>0.287</td>\n",
              "      <td>2.308</td>\n",
              "      <td>0.254</td>\n",
              "      <td>0.263</td>\n",
              "    </tr>\n",
              "    <tr>\n",
              "      <th>1</th>\n",
              "      <td>0.854</td>\n",
              "      <td>0.366</td>\n",
              "      <td>0.376</td>\n",
              "      <td>0.357</td>\n",
              "      <td>0.358</td>\n",
              "      <td>0.115</td>\n",
              "      <td>0.649</td>\n",
              "      <td>0.980</td>\n",
              "      <td>0.642</td>\n",
              "      <td>1.213</td>\n",
              "      <td>...</td>\n",
              "      <td>-1</td>\n",
              "      <td>0.814</td>\n",
              "      <td>0.516</td>\n",
              "      <td>0.786</td>\n",
              "      <td>0.610</td>\n",
              "      <td>-1.000</td>\n",
              "      <td>-1.000</td>\n",
              "      <td>10.455</td>\n",
              "      <td>-1.000</td>\n",
              "      <td>-1.000</td>\n",
              "    </tr>\n",
              "    <tr>\n",
              "      <th>2</th>\n",
              "      <td>0.693</td>\n",
              "      <td>0.226</td>\n",
              "      <td>0.233</td>\n",
              "      <td>0.220</td>\n",
              "      <td>0.219</td>\n",
              "      <td>0.344</td>\n",
              "      <td>0.765</td>\n",
              "      <td>0.793</td>\n",
              "      <td>0.371</td>\n",
              "      <td>0.552</td>\n",
              "      <td>...</td>\n",
              "      <td>-1</td>\n",
              "      <td>0.376</td>\n",
              "      <td>0.255</td>\n",
              "      <td>0.621</td>\n",
              "      <td>0.177</td>\n",
              "      <td>0.167</td>\n",
              "      <td>0.142</td>\n",
              "      <td>0.217</td>\n",
              "      <td>0.170</td>\n",
              "      <td>0.173</td>\n",
              "    </tr>\n",
              "    <tr>\n",
              "      <th>3</th>\n",
              "      <td>0.866</td>\n",
              "      <td>0.227</td>\n",
              "      <td>0.233</td>\n",
              "      <td>0.220</td>\n",
              "      <td>0.221</td>\n",
              "      <td>0.366</td>\n",
              "      <td>0.836</td>\n",
              "      <td>0.863</td>\n",
              "      <td>0.372</td>\n",
              "      <td>0.619</td>\n",
              "      <td>...</td>\n",
              "      <td>-1</td>\n",
              "      <td>0.413</td>\n",
              "      <td>0.150</td>\n",
              "      <td>0.173</td>\n",
              "      <td>0.091</td>\n",
              "      <td>0.568</td>\n",
              "      <td>0.092</td>\n",
              "      <td>0.164</td>\n",
              "      <td>0.090</td>\n",
              "      <td>0.095</td>\n",
              "    </tr>\n",
              "    <tr>\n",
              "      <th>4</th>\n",
              "      <td>1.833</td>\n",
              "      <td>0.251</td>\n",
              "      <td>0.257</td>\n",
              "      <td>0.261</td>\n",
              "      <td>0.239</td>\n",
              "      <td>0.254</td>\n",
              "      <td>0.896</td>\n",
              "      <td>0.920</td>\n",
              "      <td>0.421</td>\n",
              "      <td>0.860</td>\n",
              "      <td>...</td>\n",
              "      <td>-1</td>\n",
              "      <td>0.390</td>\n",
              "      <td>0.195</td>\n",
              "      <td>0.476</td>\n",
              "      <td>0.296</td>\n",
              "      <td>0.340</td>\n",
              "      <td>0.251</td>\n",
              "      <td>1.059</td>\n",
              "      <td>0.412</td>\n",
              "      <td>0.247</td>\n",
              "    </tr>\n",
              "    <tr>\n",
              "      <th>...</th>\n",
              "      <td>...</td>\n",
              "      <td>...</td>\n",
              "      <td>...</td>\n",
              "      <td>...</td>\n",
              "      <td>...</td>\n",
              "      <td>...</td>\n",
              "      <td>...</td>\n",
              "      <td>...</td>\n",
              "      <td>...</td>\n",
              "      <td>...</td>\n",
              "      <td>...</td>\n",
              "      <td>...</td>\n",
              "      <td>...</td>\n",
              "      <td>...</td>\n",
              "      <td>...</td>\n",
              "      <td>...</td>\n",
              "      <td>...</td>\n",
              "      <td>...</td>\n",
              "      <td>...</td>\n",
              "      <td>...</td>\n",
              "      <td>...</td>\n",
              "    </tr>\n",
              "    <tr>\n",
              "      <th>333</th>\n",
              "      <td>4.425</td>\n",
              "      <td>0.234</td>\n",
              "      <td>0.242</td>\n",
              "      <td>0.225</td>\n",
              "      <td>0.227</td>\n",
              "      <td>0.368</td>\n",
              "      <td>0.806</td>\n",
              "      <td>0.817</td>\n",
              "      <td>0.389</td>\n",
              "      <td>0.586</td>\n",
              "      <td>...</td>\n",
              "      <td>-1</td>\n",
              "      <td>0.320</td>\n",
              "      <td>0.107</td>\n",
              "      <td>0.085</td>\n",
              "      <td>0.092</td>\n",
              "      <td>0.077</td>\n",
              "      <td>0.076</td>\n",
              "      <td>0.086</td>\n",
              "      <td>0.076</td>\n",
              "      <td>0.077</td>\n",
              "    </tr>\n",
              "    <tr>\n",
              "      <th>334</th>\n",
              "      <td>0.811</td>\n",
              "      <td>0.247</td>\n",
              "      <td>0.258</td>\n",
              "      <td>0.235</td>\n",
              "      <td>0.236</td>\n",
              "      <td>0.415</td>\n",
              "      <td>0.533</td>\n",
              "      <td>0.820</td>\n",
              "      <td>0.399</td>\n",
              "      <td>0.584</td>\n",
              "      <td>...</td>\n",
              "      <td>-1</td>\n",
              "      <td>0.349</td>\n",
              "      <td>-1.000</td>\n",
              "      <td>0.401</td>\n",
              "      <td>0.188</td>\n",
              "      <td>0.141</td>\n",
              "      <td>0.144</td>\n",
              "      <td>0.142</td>\n",
              "      <td>0.174</td>\n",
              "      <td>0.141</td>\n",
              "    </tr>\n",
              "    <tr>\n",
              "      <th>335</th>\n",
              "      <td>1.314</td>\n",
              "      <td>0.311</td>\n",
              "      <td>0.412</td>\n",
              "      <td>0.423</td>\n",
              "      <td>0.300</td>\n",
              "      <td>0.640</td>\n",
              "      <td>1.698</td>\n",
              "      <td>1.389</td>\n",
              "      <td>0.558</td>\n",
              "      <td>1.081</td>\n",
              "      <td>...</td>\n",
              "      <td>-1</td>\n",
              "      <td>0.800</td>\n",
              "      <td>0.409</td>\n",
              "      <td>3.539</td>\n",
              "      <td>0.755</td>\n",
              "      <td>0.587</td>\n",
              "      <td>0.877</td>\n",
              "      <td>0.715</td>\n",
              "      <td>1.002</td>\n",
              "      <td>0.420</td>\n",
              "    </tr>\n",
              "    <tr>\n",
              "      <th>336</th>\n",
              "      <td>1.299</td>\n",
              "      <td>0.614</td>\n",
              "      <td>0.524</td>\n",
              "      <td>3.257</td>\n",
              "      <td>0.324</td>\n",
              "      <td>0.520</td>\n",
              "      <td>1.408</td>\n",
              "      <td>1.575</td>\n",
              "      <td>0.584</td>\n",
              "      <td>0.868</td>\n",
              "      <td>...</td>\n",
              "      <td>-1</td>\n",
              "      <td>0.877</td>\n",
              "      <td>0.540</td>\n",
              "      <td>0.721</td>\n",
              "      <td>0.528</td>\n",
              "      <td>0.496</td>\n",
              "      <td>0.675</td>\n",
              "      <td>0.455</td>\n",
              "      <td>1.275</td>\n",
              "      <td>0.571</td>\n",
              "    </tr>\n",
              "    <tr>\n",
              "      <th>337</th>\n",
              "      <td>1.285</td>\n",
              "      <td>0.222</td>\n",
              "      <td>0.232</td>\n",
              "      <td>0.215</td>\n",
              "      <td>0.214</td>\n",
              "      <td>0.460</td>\n",
              "      <td>1.289</td>\n",
              "      <td>0.841</td>\n",
              "      <td>0.362</td>\n",
              "      <td>0.763</td>\n",
              "      <td>...</td>\n",
              "      <td>-1</td>\n",
              "      <td>0.640</td>\n",
              "      <td>0.297</td>\n",
              "      <td>0.429</td>\n",
              "      <td>0.164</td>\n",
              "      <td>0.250</td>\n",
              "      <td>0.160</td>\n",
              "      <td>0.184</td>\n",
              "      <td>0.136</td>\n",
              "      <td>0.130</td>\n",
              "    </tr>\n",
              "  </tbody>\n",
              "</table>\n",
              "<p>338 rows × 5825 columns</p>\n",
              "</div>\n",
              "    <div class=\"colab-df-buttons\">\n",
              "\n",
              "  <div class=\"colab-df-container\">\n",
              "    <button class=\"colab-df-convert\" onclick=\"convertToInteractive('df-37cdb98a-010d-40be-91be-b865d15260b5')\"\n",
              "            title=\"Convert this dataframe to an interactive table.\"\n",
              "            style=\"display:none;\">\n",
              "\n",
              "  <svg xmlns=\"http://www.w3.org/2000/svg\" height=\"24px\" viewBox=\"0 -960 960 960\">\n",
              "    <path d=\"M120-120v-720h720v720H120Zm60-500h600v-160H180v160Zm220 220h160v-160H400v160Zm0 220h160v-160H400v160ZM180-400h160v-160H180v160Zm440 0h160v-160H620v160ZM180-180h160v-160H180v160Zm440 0h160v-160H620v160Z\"/>\n",
              "  </svg>\n",
              "    </button>\n",
              "\n",
              "  <style>\n",
              "    .colab-df-container {\n",
              "      display:flex;\n",
              "      gap: 12px;\n",
              "    }\n",
              "\n",
              "    .colab-df-convert {\n",
              "      background-color: #E8F0FE;\n",
              "      border: none;\n",
              "      border-radius: 50%;\n",
              "      cursor: pointer;\n",
              "      display: none;\n",
              "      fill: #1967D2;\n",
              "      height: 32px;\n",
              "      padding: 0 0 0 0;\n",
              "      width: 32px;\n",
              "    }\n",
              "\n",
              "    .colab-df-convert:hover {\n",
              "      background-color: #E2EBFA;\n",
              "      box-shadow: 0px 1px 2px rgba(60, 64, 67, 0.3), 0px 1px 3px 1px rgba(60, 64, 67, 0.15);\n",
              "      fill: #174EA6;\n",
              "    }\n",
              "\n",
              "    .colab-df-buttons div {\n",
              "      margin-bottom: 4px;\n",
              "    }\n",
              "\n",
              "    [theme=dark] .colab-df-convert {\n",
              "      background-color: #3B4455;\n",
              "      fill: #D2E3FC;\n",
              "    }\n",
              "\n",
              "    [theme=dark] .colab-df-convert:hover {\n",
              "      background-color: #434B5C;\n",
              "      box-shadow: 0px 1px 3px 1px rgba(0, 0, 0, 0.15);\n",
              "      filter: drop-shadow(0px 1px 2px rgba(0, 0, 0, 0.3));\n",
              "      fill: #FFFFFF;\n",
              "    }\n",
              "  </style>\n",
              "\n",
              "    <script>\n",
              "      const buttonEl =\n",
              "        document.querySelector('#df-37cdb98a-010d-40be-91be-b865d15260b5 button.colab-df-convert');\n",
              "      buttonEl.style.display =\n",
              "        google.colab.kernel.accessAllowed ? 'block' : 'none';\n",
              "\n",
              "      async function convertToInteractive(key) {\n",
              "        const element = document.querySelector('#df-37cdb98a-010d-40be-91be-b865d15260b5');\n",
              "        const dataTable =\n",
              "          await google.colab.kernel.invokeFunction('convertToInteractive',\n",
              "                                                    [key], {});\n",
              "        if (!dataTable) return;\n",
              "\n",
              "        const docLinkHtml = 'Like what you see? Visit the ' +\n",
              "          '<a target=\"_blank\" href=https://colab.research.google.com/notebooks/data_table.ipynb>data table notebook</a>'\n",
              "          + ' to learn more about interactive tables.';\n",
              "        element.innerHTML = '';\n",
              "        dataTable['output_type'] = 'display_data';\n",
              "        await google.colab.output.renderOutput(dataTable, element);\n",
              "        const docLink = document.createElement('div');\n",
              "        docLink.innerHTML = docLinkHtml;\n",
              "        element.appendChild(docLink);\n",
              "      }\n",
              "    </script>\n",
              "  </div>\n",
              "\n",
              "\n",
              "<div id=\"df-019cefbe-38cf-43a0-b587-f61168852dd7\">\n",
              "  <button class=\"colab-df-quickchart\" onclick=\"quickchart('df-019cefbe-38cf-43a0-b587-f61168852dd7')\"\n",
              "            title=\"Suggest charts.\"\n",
              "            style=\"display:none;\">\n",
              "\n",
              "<svg xmlns=\"http://www.w3.org/2000/svg\" height=\"24px\"viewBox=\"0 0 24 24\"\n",
              "     width=\"24px\">\n",
              "    <g>\n",
              "        <path d=\"M19 3H5c-1.1 0-2 .9-2 2v14c0 1.1.9 2 2 2h14c1.1 0 2-.9 2-2V5c0-1.1-.9-2-2-2zM9 17H7v-7h2v7zm4 0h-2V7h2v10zm4 0h-2v-4h2v4z\"/>\n",
              "    </g>\n",
              "</svg>\n",
              "  </button>\n",
              "\n",
              "<style>\n",
              "  .colab-df-quickchart {\n",
              "    background-color: #E8F0FE;\n",
              "    border: none;\n",
              "    border-radius: 50%;\n",
              "    cursor: pointer;\n",
              "    display: none;\n",
              "    fill: #1967D2;\n",
              "    height: 32px;\n",
              "    padding: 0 0 0 0;\n",
              "    width: 32px;\n",
              "  }\n",
              "\n",
              "  .colab-df-quickchart:hover {\n",
              "    background-color: #E2EBFA;\n",
              "    box-shadow: 0px 1px 2px rgba(60, 64, 67, 0.3), 0px 1px 3px 1px rgba(60, 64, 67, 0.15);\n",
              "    fill: #174EA6;\n",
              "  }\n",
              "\n",
              "  [theme=dark] .colab-df-quickchart {\n",
              "    background-color: #3B4455;\n",
              "    fill: #D2E3FC;\n",
              "  }\n",
              "\n",
              "  [theme=dark] .colab-df-quickchart:hover {\n",
              "    background-color: #434B5C;\n",
              "    box-shadow: 0px 1px 3px 1px rgba(0, 0, 0, 0.15);\n",
              "    filter: drop-shadow(0px 1px 2px rgba(0, 0, 0, 0.3));\n",
              "    fill: #FFFFFF;\n",
              "  }\n",
              "</style>\n",
              "\n",
              "  <script>\n",
              "    async function quickchart(key) {\n",
              "      const charts = await google.colab.kernel.invokeFunction(\n",
              "          'suggestCharts', [key], {});\n",
              "    }\n",
              "    (() => {\n",
              "      let quickchartButtonEl =\n",
              "        document.querySelector('#df-019cefbe-38cf-43a0-b587-f61168852dd7 button');\n",
              "      quickchartButtonEl.style.display =\n",
              "        google.colab.kernel.accessAllowed ? 'block' : 'none';\n",
              "    })();\n",
              "  </script>\n",
              "</div>\n",
              "    </div>\n",
              "  </div>\n"
            ]
          },
          "metadata": {},
          "execution_count": 5
        }
      ],
      "source": [
        "df = pd.DataFrame(df, index = [I for I in range(0, 338)])\n",
        "df.index.name = 'user_id'\n",
        "df.columns.name = 'item_id'\n",
        "pd.options.display.max_rows = 10\n",
        "df"
      ]
    },
    {
      "cell_type": "markdown",
      "source": [
        "**Statistics of the Dataset**"
      ],
      "metadata": {
        "id": "qrIfwx0lFz09"
      }
    },
    {
      "cell_type": "markdown",
      "source": [
        "Next, we are going to inspect the data manually:"
      ],
      "metadata": {
        "id": "A-g7NAB0F8C9"
      }
    },
    {
      "cell_type": "code",
      "source": [
        "num_users = df.shape[0]\n",
        "num_items = df.shape[1]\n",
        "sparsity = 1 - len(df) / (num_users * num_items)"
      ],
      "metadata": {
        "id": "GyB5CPr0GGOi"
      },
      "execution_count": 6,
      "outputs": []
    },
    {
      "cell_type": "code",
      "source": [
        "print('number of users: %d, number of items: %d.' % (num_users, num_items))\n",
        "print('matrix sparsity: %f' % sparsity)\n",
        "df.max().sort_values(ascending=False)"
      ],
      "metadata": {
        "id": "DKaKHkR_GOib",
        "colab": {
          "base_uri": "https://localhost:8080/"
        },
        "outputId": "8ee47643-ed04-42d6-beaf-cfbb17875128"
      },
      "execution_count": 7,
      "outputs": [
        {
          "output_type": "stream",
          "name": "stdout",
          "text": [
            "number of users: 338, number of items: 5825.\n",
            "matrix sparsity: 0.999828\n"
          ]
        },
        {
          "output_type": "execute_result",
          "data": {
            "text/plain": [
              "item_id\n",
              "224     19.999\n",
              "428     19.998\n",
              "1766    19.996\n",
              "130     19.993\n",
              "222     19.991\n",
              "         ...  \n",
              "4072    -1.000\n",
              "5816    -1.000\n",
              "5124    -1.000\n",
              "4681    -1.000\n",
              "4190    -1.000\n",
              "Length: 5825, dtype: float64"
            ]
          },
          "metadata": {},
          "execution_count": 7
        }
      ]
    },
    {
      "cell_type": "markdown",
      "source": [
        "The sparsity of the data shows that the data is very sparse,(sparsity=99.9%)."
      ],
      "metadata": {
        "id": "b2PuBQJ-GfJn"
      }
    },
    {
      "cell_type": "code",
      "source": [
        "df.info()"
      ],
      "metadata": {
        "id": "v46JBILhGlJ4",
        "colab": {
          "base_uri": "https://localhost:8080/"
        },
        "outputId": "6e7c3fc2-4b3b-4d3b-d21f-994b96644a7c"
      },
      "execution_count": 8,
      "outputs": [
        {
          "output_type": "stream",
          "name": "stdout",
          "text": [
            "<class 'pandas.core.frame.DataFrame'>\n",
            "Int64Index: 338 entries, 0 to 337\n",
            "Columns: 5825 entries, 1 to 5825\n",
            "dtypes: float64(5818), int64(7)\n",
            "memory usage: 15.0 MB\n"
          ]
        }
      ]
    },
    {
      "cell_type": "code",
      "source": [
        "df.isnull()"
      ],
      "metadata": {
        "id": "R-Kc1GG7HCBx",
        "colab": {
          "base_uri": "https://localhost:8080/",
          "height": 475
        },
        "outputId": "d5f1c619-da96-417d-d98c-bd6b94552509"
      },
      "execution_count": 9,
      "outputs": [
        {
          "output_type": "execute_result",
          "data": {
            "text/plain": [
              "item_id   1      2      3      4      5      6      7      8      9      10    \\\n",
              "user_id                                                                         \n",
              "0        False  False  False  False  False  False  False  False  False  False   \n",
              "1        False  False  False  False  False  False  False  False  False  False   \n",
              "2        False  False  False  False  False  False  False  False  False  False   \n",
              "3        False  False  False  False  False  False  False  False  False  False   \n",
              "4        False  False  False  False  False  False  False  False  False  False   \n",
              "...        ...    ...    ...    ...    ...    ...    ...    ...    ...    ...   \n",
              "333      False  False  False  False  False  False  False  False  False  False   \n",
              "334      False  False  False  False  False  False  False  False  False  False   \n",
              "335      False  False  False  False  False  False  False  False  False  False   \n",
              "336      False  False  False  False  False  False  False  False  False  False   \n",
              "337      False  False  False  False  False  False  False  False  False  False   \n",
              "\n",
              "item_id  ...   5816   5817   5818   5819   5820   5821   5822   5823   5824  \\\n",
              "user_id  ...                                                                  \n",
              "0        ...  False  False  False  False  False  False  False  False  False   \n",
              "1        ...  False  False  False  False  False  False  False  False  False   \n",
              "2        ...  False  False  False  False  False  False  False  False  False   \n",
              "3        ...  False  False  False  False  False  False  False  False  False   \n",
              "4        ...  False  False  False  False  False  False  False  False  False   \n",
              "...      ...    ...    ...    ...    ...    ...    ...    ...    ...    ...   \n",
              "333      ...  False  False  False  False  False  False  False  False  False   \n",
              "334      ...  False  False  False  False  False  False  False  False  False   \n",
              "335      ...  False  False  False  False  False  False  False  False  False   \n",
              "336      ...  False  False  False  False  False  False  False  False  False   \n",
              "337      ...  False  False  False  False  False  False  False  False  False   \n",
              "\n",
              "item_id   5825  \n",
              "user_id         \n",
              "0        False  \n",
              "1        False  \n",
              "2        False  \n",
              "3        False  \n",
              "4        False  \n",
              "...        ...  \n",
              "333      False  \n",
              "334      False  \n",
              "335      False  \n",
              "336      False  \n",
              "337      False  \n",
              "\n",
              "[338 rows x 5825 columns]"
            ],
            "text/html": [
              "\n",
              "  <div id=\"df-c29f329d-ef2b-4177-85a8-17b9d522cb88\" class=\"colab-df-container\">\n",
              "    <div>\n",
              "<style scoped>\n",
              "    .dataframe tbody tr th:only-of-type {\n",
              "        vertical-align: middle;\n",
              "    }\n",
              "\n",
              "    .dataframe tbody tr th {\n",
              "        vertical-align: top;\n",
              "    }\n",
              "\n",
              "    .dataframe thead th {\n",
              "        text-align: right;\n",
              "    }\n",
              "</style>\n",
              "<table border=\"1\" class=\"dataframe\">\n",
              "  <thead>\n",
              "    <tr style=\"text-align: right;\">\n",
              "      <th>item_id</th>\n",
              "      <th>1</th>\n",
              "      <th>2</th>\n",
              "      <th>3</th>\n",
              "      <th>4</th>\n",
              "      <th>5</th>\n",
              "      <th>6</th>\n",
              "      <th>7</th>\n",
              "      <th>8</th>\n",
              "      <th>9</th>\n",
              "      <th>10</th>\n",
              "      <th>...</th>\n",
              "      <th>5816</th>\n",
              "      <th>5817</th>\n",
              "      <th>5818</th>\n",
              "      <th>5819</th>\n",
              "      <th>5820</th>\n",
              "      <th>5821</th>\n",
              "      <th>5822</th>\n",
              "      <th>5823</th>\n",
              "      <th>5824</th>\n",
              "      <th>5825</th>\n",
              "    </tr>\n",
              "    <tr>\n",
              "      <th>user_id</th>\n",
              "      <th></th>\n",
              "      <th></th>\n",
              "      <th></th>\n",
              "      <th></th>\n",
              "      <th></th>\n",
              "      <th></th>\n",
              "      <th></th>\n",
              "      <th></th>\n",
              "      <th></th>\n",
              "      <th></th>\n",
              "      <th></th>\n",
              "      <th></th>\n",
              "      <th></th>\n",
              "      <th></th>\n",
              "      <th></th>\n",
              "      <th></th>\n",
              "      <th></th>\n",
              "      <th></th>\n",
              "      <th></th>\n",
              "      <th></th>\n",
              "      <th></th>\n",
              "    </tr>\n",
              "  </thead>\n",
              "  <tbody>\n",
              "    <tr>\n",
              "      <th>0</th>\n",
              "      <td>False</td>\n",
              "      <td>False</td>\n",
              "      <td>False</td>\n",
              "      <td>False</td>\n",
              "      <td>False</td>\n",
              "      <td>False</td>\n",
              "      <td>False</td>\n",
              "      <td>False</td>\n",
              "      <td>False</td>\n",
              "      <td>False</td>\n",
              "      <td>...</td>\n",
              "      <td>False</td>\n",
              "      <td>False</td>\n",
              "      <td>False</td>\n",
              "      <td>False</td>\n",
              "      <td>False</td>\n",
              "      <td>False</td>\n",
              "      <td>False</td>\n",
              "      <td>False</td>\n",
              "      <td>False</td>\n",
              "      <td>False</td>\n",
              "    </tr>\n",
              "    <tr>\n",
              "      <th>1</th>\n",
              "      <td>False</td>\n",
              "      <td>False</td>\n",
              "      <td>False</td>\n",
              "      <td>False</td>\n",
              "      <td>False</td>\n",
              "      <td>False</td>\n",
              "      <td>False</td>\n",
              "      <td>False</td>\n",
              "      <td>False</td>\n",
              "      <td>False</td>\n",
              "      <td>...</td>\n",
              "      <td>False</td>\n",
              "      <td>False</td>\n",
              "      <td>False</td>\n",
              "      <td>False</td>\n",
              "      <td>False</td>\n",
              "      <td>False</td>\n",
              "      <td>False</td>\n",
              "      <td>False</td>\n",
              "      <td>False</td>\n",
              "      <td>False</td>\n",
              "    </tr>\n",
              "    <tr>\n",
              "      <th>2</th>\n",
              "      <td>False</td>\n",
              "      <td>False</td>\n",
              "      <td>False</td>\n",
              "      <td>False</td>\n",
              "      <td>False</td>\n",
              "      <td>False</td>\n",
              "      <td>False</td>\n",
              "      <td>False</td>\n",
              "      <td>False</td>\n",
              "      <td>False</td>\n",
              "      <td>...</td>\n",
              "      <td>False</td>\n",
              "      <td>False</td>\n",
              "      <td>False</td>\n",
              "      <td>False</td>\n",
              "      <td>False</td>\n",
              "      <td>False</td>\n",
              "      <td>False</td>\n",
              "      <td>False</td>\n",
              "      <td>False</td>\n",
              "      <td>False</td>\n",
              "    </tr>\n",
              "    <tr>\n",
              "      <th>3</th>\n",
              "      <td>False</td>\n",
              "      <td>False</td>\n",
              "      <td>False</td>\n",
              "      <td>False</td>\n",
              "      <td>False</td>\n",
              "      <td>False</td>\n",
              "      <td>False</td>\n",
              "      <td>False</td>\n",
              "      <td>False</td>\n",
              "      <td>False</td>\n",
              "      <td>...</td>\n",
              "      <td>False</td>\n",
              "      <td>False</td>\n",
              "      <td>False</td>\n",
              "      <td>False</td>\n",
              "      <td>False</td>\n",
              "      <td>False</td>\n",
              "      <td>False</td>\n",
              "      <td>False</td>\n",
              "      <td>False</td>\n",
              "      <td>False</td>\n",
              "    </tr>\n",
              "    <tr>\n",
              "      <th>4</th>\n",
              "      <td>False</td>\n",
              "      <td>False</td>\n",
              "      <td>False</td>\n",
              "      <td>False</td>\n",
              "      <td>False</td>\n",
              "      <td>False</td>\n",
              "      <td>False</td>\n",
              "      <td>False</td>\n",
              "      <td>False</td>\n",
              "      <td>False</td>\n",
              "      <td>...</td>\n",
              "      <td>False</td>\n",
              "      <td>False</td>\n",
              "      <td>False</td>\n",
              "      <td>False</td>\n",
              "      <td>False</td>\n",
              "      <td>False</td>\n",
              "      <td>False</td>\n",
              "      <td>False</td>\n",
              "      <td>False</td>\n",
              "      <td>False</td>\n",
              "    </tr>\n",
              "    <tr>\n",
              "      <th>...</th>\n",
              "      <td>...</td>\n",
              "      <td>...</td>\n",
              "      <td>...</td>\n",
              "      <td>...</td>\n",
              "      <td>...</td>\n",
              "      <td>...</td>\n",
              "      <td>...</td>\n",
              "      <td>...</td>\n",
              "      <td>...</td>\n",
              "      <td>...</td>\n",
              "      <td>...</td>\n",
              "      <td>...</td>\n",
              "      <td>...</td>\n",
              "      <td>...</td>\n",
              "      <td>...</td>\n",
              "      <td>...</td>\n",
              "      <td>...</td>\n",
              "      <td>...</td>\n",
              "      <td>...</td>\n",
              "      <td>...</td>\n",
              "      <td>...</td>\n",
              "    </tr>\n",
              "    <tr>\n",
              "      <th>333</th>\n",
              "      <td>False</td>\n",
              "      <td>False</td>\n",
              "      <td>False</td>\n",
              "      <td>False</td>\n",
              "      <td>False</td>\n",
              "      <td>False</td>\n",
              "      <td>False</td>\n",
              "      <td>False</td>\n",
              "      <td>False</td>\n",
              "      <td>False</td>\n",
              "      <td>...</td>\n",
              "      <td>False</td>\n",
              "      <td>False</td>\n",
              "      <td>False</td>\n",
              "      <td>False</td>\n",
              "      <td>False</td>\n",
              "      <td>False</td>\n",
              "      <td>False</td>\n",
              "      <td>False</td>\n",
              "      <td>False</td>\n",
              "      <td>False</td>\n",
              "    </tr>\n",
              "    <tr>\n",
              "      <th>334</th>\n",
              "      <td>False</td>\n",
              "      <td>False</td>\n",
              "      <td>False</td>\n",
              "      <td>False</td>\n",
              "      <td>False</td>\n",
              "      <td>False</td>\n",
              "      <td>False</td>\n",
              "      <td>False</td>\n",
              "      <td>False</td>\n",
              "      <td>False</td>\n",
              "      <td>...</td>\n",
              "      <td>False</td>\n",
              "      <td>False</td>\n",
              "      <td>False</td>\n",
              "      <td>False</td>\n",
              "      <td>False</td>\n",
              "      <td>False</td>\n",
              "      <td>False</td>\n",
              "      <td>False</td>\n",
              "      <td>False</td>\n",
              "      <td>False</td>\n",
              "    </tr>\n",
              "    <tr>\n",
              "      <th>335</th>\n",
              "      <td>False</td>\n",
              "      <td>False</td>\n",
              "      <td>False</td>\n",
              "      <td>False</td>\n",
              "      <td>False</td>\n",
              "      <td>False</td>\n",
              "      <td>False</td>\n",
              "      <td>False</td>\n",
              "      <td>False</td>\n",
              "      <td>False</td>\n",
              "      <td>...</td>\n",
              "      <td>False</td>\n",
              "      <td>False</td>\n",
              "      <td>False</td>\n",
              "      <td>False</td>\n",
              "      <td>False</td>\n",
              "      <td>False</td>\n",
              "      <td>False</td>\n",
              "      <td>False</td>\n",
              "      <td>False</td>\n",
              "      <td>False</td>\n",
              "    </tr>\n",
              "    <tr>\n",
              "      <th>336</th>\n",
              "      <td>False</td>\n",
              "      <td>False</td>\n",
              "      <td>False</td>\n",
              "      <td>False</td>\n",
              "      <td>False</td>\n",
              "      <td>False</td>\n",
              "      <td>False</td>\n",
              "      <td>False</td>\n",
              "      <td>False</td>\n",
              "      <td>False</td>\n",
              "      <td>...</td>\n",
              "      <td>False</td>\n",
              "      <td>False</td>\n",
              "      <td>False</td>\n",
              "      <td>False</td>\n",
              "      <td>False</td>\n",
              "      <td>False</td>\n",
              "      <td>False</td>\n",
              "      <td>False</td>\n",
              "      <td>False</td>\n",
              "      <td>False</td>\n",
              "    </tr>\n",
              "    <tr>\n",
              "      <th>337</th>\n",
              "      <td>False</td>\n",
              "      <td>False</td>\n",
              "      <td>False</td>\n",
              "      <td>False</td>\n",
              "      <td>False</td>\n",
              "      <td>False</td>\n",
              "      <td>False</td>\n",
              "      <td>False</td>\n",
              "      <td>False</td>\n",
              "      <td>False</td>\n",
              "      <td>...</td>\n",
              "      <td>False</td>\n",
              "      <td>False</td>\n",
              "      <td>False</td>\n",
              "      <td>False</td>\n",
              "      <td>False</td>\n",
              "      <td>False</td>\n",
              "      <td>False</td>\n",
              "      <td>False</td>\n",
              "      <td>False</td>\n",
              "      <td>False</td>\n",
              "    </tr>\n",
              "  </tbody>\n",
              "</table>\n",
              "<p>338 rows × 5825 columns</p>\n",
              "</div>\n",
              "    <div class=\"colab-df-buttons\">\n",
              "\n",
              "  <div class=\"colab-df-container\">\n",
              "    <button class=\"colab-df-convert\" onclick=\"convertToInteractive('df-c29f329d-ef2b-4177-85a8-17b9d522cb88')\"\n",
              "            title=\"Convert this dataframe to an interactive table.\"\n",
              "            style=\"display:none;\">\n",
              "\n",
              "  <svg xmlns=\"http://www.w3.org/2000/svg\" height=\"24px\" viewBox=\"0 -960 960 960\">\n",
              "    <path d=\"M120-120v-720h720v720H120Zm60-500h600v-160H180v160Zm220 220h160v-160H400v160Zm0 220h160v-160H400v160ZM180-400h160v-160H180v160Zm440 0h160v-160H620v160ZM180-180h160v-160H180v160Zm440 0h160v-160H620v160Z\"/>\n",
              "  </svg>\n",
              "    </button>\n",
              "\n",
              "  <style>\n",
              "    .colab-df-container {\n",
              "      display:flex;\n",
              "      gap: 12px;\n",
              "    }\n",
              "\n",
              "    .colab-df-convert {\n",
              "      background-color: #E8F0FE;\n",
              "      border: none;\n",
              "      border-radius: 50%;\n",
              "      cursor: pointer;\n",
              "      display: none;\n",
              "      fill: #1967D2;\n",
              "      height: 32px;\n",
              "      padding: 0 0 0 0;\n",
              "      width: 32px;\n",
              "    }\n",
              "\n",
              "    .colab-df-convert:hover {\n",
              "      background-color: #E2EBFA;\n",
              "      box-shadow: 0px 1px 2px rgba(60, 64, 67, 0.3), 0px 1px 3px 1px rgba(60, 64, 67, 0.15);\n",
              "      fill: #174EA6;\n",
              "    }\n",
              "\n",
              "    .colab-df-buttons div {\n",
              "      margin-bottom: 4px;\n",
              "    }\n",
              "\n",
              "    [theme=dark] .colab-df-convert {\n",
              "      background-color: #3B4455;\n",
              "      fill: #D2E3FC;\n",
              "    }\n",
              "\n",
              "    [theme=dark] .colab-df-convert:hover {\n",
              "      background-color: #434B5C;\n",
              "      box-shadow: 0px 1px 3px 1px rgba(0, 0, 0, 0.15);\n",
              "      filter: drop-shadow(0px 1px 2px rgba(0, 0, 0, 0.3));\n",
              "      fill: #FFFFFF;\n",
              "    }\n",
              "  </style>\n",
              "\n",
              "    <script>\n",
              "      const buttonEl =\n",
              "        document.querySelector('#df-c29f329d-ef2b-4177-85a8-17b9d522cb88 button.colab-df-convert');\n",
              "      buttonEl.style.display =\n",
              "        google.colab.kernel.accessAllowed ? 'block' : 'none';\n",
              "\n",
              "      async function convertToInteractive(key) {\n",
              "        const element = document.querySelector('#df-c29f329d-ef2b-4177-85a8-17b9d522cb88');\n",
              "        const dataTable =\n",
              "          await google.colab.kernel.invokeFunction('convertToInteractive',\n",
              "                                                    [key], {});\n",
              "        if (!dataTable) return;\n",
              "\n",
              "        const docLinkHtml = 'Like what you see? Visit the ' +\n",
              "          '<a target=\"_blank\" href=https://colab.research.google.com/notebooks/data_table.ipynb>data table notebook</a>'\n",
              "          + ' to learn more about interactive tables.';\n",
              "        element.innerHTML = '';\n",
              "        dataTable['output_type'] = 'display_data';\n",
              "        await google.colab.output.renderOutput(dataTable, element);\n",
              "        const docLink = document.createElement('div');\n",
              "        docLink.innerHTML = docLinkHtml;\n",
              "        element.appendChild(docLink);\n",
              "      }\n",
              "    </script>\n",
              "  </div>\n",
              "\n",
              "\n",
              "<div id=\"df-f7dbb4db-d26f-4bbc-8e8b-56ba485d3fa7\">\n",
              "  <button class=\"colab-df-quickchart\" onclick=\"quickchart('df-f7dbb4db-d26f-4bbc-8e8b-56ba485d3fa7')\"\n",
              "            title=\"Suggest charts.\"\n",
              "            style=\"display:none;\">\n",
              "\n",
              "<svg xmlns=\"http://www.w3.org/2000/svg\" height=\"24px\"viewBox=\"0 0 24 24\"\n",
              "     width=\"24px\">\n",
              "    <g>\n",
              "        <path d=\"M19 3H5c-1.1 0-2 .9-2 2v14c0 1.1.9 2 2 2h14c1.1 0 2-.9 2-2V5c0-1.1-.9-2-2-2zM9 17H7v-7h2v7zm4 0h-2V7h2v10zm4 0h-2v-4h2v4z\"/>\n",
              "    </g>\n",
              "</svg>\n",
              "  </button>\n",
              "\n",
              "<style>\n",
              "  .colab-df-quickchart {\n",
              "    background-color: #E8F0FE;\n",
              "    border: none;\n",
              "    border-radius: 50%;\n",
              "    cursor: pointer;\n",
              "    display: none;\n",
              "    fill: #1967D2;\n",
              "    height: 32px;\n",
              "    padding: 0 0 0 0;\n",
              "    width: 32px;\n",
              "  }\n",
              "\n",
              "  .colab-df-quickchart:hover {\n",
              "    background-color: #E2EBFA;\n",
              "    box-shadow: 0px 1px 2px rgba(60, 64, 67, 0.3), 0px 1px 3px 1px rgba(60, 64, 67, 0.15);\n",
              "    fill: #174EA6;\n",
              "  }\n",
              "\n",
              "  [theme=dark] .colab-df-quickchart {\n",
              "    background-color: #3B4455;\n",
              "    fill: #D2E3FC;\n",
              "  }\n",
              "\n",
              "  [theme=dark] .colab-df-quickchart:hover {\n",
              "    background-color: #434B5C;\n",
              "    box-shadow: 0px 1px 3px 1px rgba(0, 0, 0, 0.15);\n",
              "    filter: drop-shadow(0px 1px 2px rgba(0, 0, 0, 0.3));\n",
              "    fill: #FFFFFF;\n",
              "  }\n",
              "</style>\n",
              "\n",
              "  <script>\n",
              "    async function quickchart(key) {\n",
              "      const charts = await google.colab.kernel.invokeFunction(\n",
              "          'suggestCharts', [key], {});\n",
              "    }\n",
              "    (() => {\n",
              "      let quickchartButtonEl =\n",
              "        document.querySelector('#df-f7dbb4db-d26f-4bbc-8e8b-56ba485d3fa7 button');\n",
              "      quickchartButtonEl.style.display =\n",
              "        google.colab.kernel.accessAllowed ? 'block' : 'none';\n",
              "    })();\n",
              "  </script>\n",
              "</div>\n",
              "    </div>\n",
              "  </div>\n"
            ]
          },
          "metadata": {},
          "execution_count": 9
        }
      ]
    },
    {
      "cell_type": "markdown",
      "source": [
        "Then, we plot the distribution of different rating matrix:"
      ],
      "metadata": {
        "id": "QI6BXZhFHO0B"
      }
    },
    {
      "cell_type": "code",
      "source": [
        "ratings = df.values.reshape(-1, 1)"
      ],
      "metadata": {
        "id": "InN1rV6pHR-L"
      },
      "execution_count": 10,
      "outputs": []
    },
    {
      "cell_type": "code",
      "source": [
        "import matplotlib.pyplot as plt\n",
        "plt.hist(ratings, bins=8, ec='black')\n",
        "plt.xlabel('Rating')\n",
        "plt.ylabel('Count')\n",
        "plt.title('Distribution of Rating Matrix')\n",
        "plt.show()"
      ],
      "metadata": {
        "id": "9UT_gZFEHecT",
        "colab": {
          "base_uri": "https://localhost:8080/",
          "height": 472
        },
        "outputId": "ed0ceef1-cda8-4520-aa68-9e0c8993707d"
      },
      "execution_count": 11,
      "outputs": [
        {
          "output_type": "display_data",
          "data": {
            "text/plain": [
              "<Figure size 640x480 with 1 Axes>"
            ],
            "image/png": "[encoded data removed]"
          },
          "metadata": {}
        }
      ]
    },
    {
      "cell_type": "markdown",
      "source": [
        "We can see that majority of the rating matrix is between -0.25 to 0.2."
      ],
      "metadata": {
        "id": "eVyC4XyeH6d_"
      }
    },
    {
      "cell_type": "markdown",
      "source": [
        "**Splitting the dataset**"
      ],
      "metadata": {
        "id": "Z5rfpAW9IB5D"
      }
    },
    {
      "cell_type": "code",
      "source": [],
      "metadata": {
        "id": "T5-vlQjhWiK8"
      },
      "execution_count": 11,
      "outputs": []
    },
    {
      "cell_type": "markdown",
      "source": [
        "Next, We split the dataset into training and test sets:"
      ],
      "metadata": {
        "id": "Me-K28vgILW_"
      }
    },
    {
      "cell_type": "code",
      "execution_count": 27,
      "metadata": {
        "id": "klTe1QIwu2rN"
      },
      "outputs": [],
      "source": [
        "from scipy import sparse\n",
        "from lightfm import LightFM\n",
        "df_sparse = sparse.csr_matrix(df)\n",
        "from lightfm.cross_validation import random_train_test_split\n",
        "train_sparse, test_sparse = random_train_test_split(df_sparse, test_percentage=0.4, random_state=None)"
      ]
    },
    {
      "cell_type": "code",
      "execution_count": null,
      "metadata": {
        "id": "ve6slpvewZKH"
      },
      "outputs": [],
      "source": []
    },
    {
      "cell_type": "code",
      "execution_count": null,
      "metadata": {
        "id": "PpkE0F3mzkIm"
      },
      "outputs": [],
      "source": [
        "pd.options.display.max_rows = 5"
      ]
    },
    {
      "cell_type": "code",
      "execution_count": 28,
      "metadata": {
        "colab": {
          "base_uri": "https://localhost:8080/"
        },
        "id": "_shs3Zcl0dgR",
        "outputId": "02be7a12-d333-43a7-a048-93340c78eb01"
      },
      "outputs": [
        {
          "output_type": "execute_result",
          "data": {
            "text/plain": [
              "<338x5825 sparse matrix of type '<class 'numpy.float64'>'\n",
              "\twith 787540 stored elements in COOrdinate format>"
            ]
          },
          "metadata": {},
          "execution_count": 28
        }
      ],
      "source": [
        "train_sparse\n",
        "test_sparse"
      ]
    },
    {
      "cell_type": "markdown",
      "source": [
        "**Model** **Implementation**"
      ],
      "metadata": {
        "id": "KaVj8mLINsuo"
      }
    },
    {
      "cell_type": "code",
      "execution_count": null,
      "metadata": {
        "id": "p_CxA0um0ymr"
      },
      "outputs": [],
      "source": []
    },
    {
      "cell_type": "code",
      "source": [
        "from lightfm import LightFM\n",
        "def create_model():\n",
        "\n",
        "  model = LightFM(loss='warp')\n",
        "  return model\n"
      ],
      "metadata": {
        "id": "tkscvBgTTlhJ"
      },
      "execution_count": 14,
      "outputs": []
    },
    {
      "cell_type": "code",
      "source": [
        "import tensorflow as tf\n",
        "print(\"Tensorflow version \" + tf.__version__)\n",
        "\n",
        "try:\n",
        "  tpu = tf.distribute.cluster_resolver.TPUClusterResolver()  # TPU detection\n",
        "  print('Running on TPU ', tpu.cluster_spec().as_dict()['worker'])\n",
        "except ValueError:\n",
        "  raise BaseException('ERROR: Not connected to a TPU runtime; please see the previous cell in this notebook for instructions!')\n",
        "\n",
        "tf.config.experimental_connect_to_cluster(tpu)\n",
        "tf.tpu.experimental.initialize_tpu_system(tpu)\n",
        "tpu_strategy = tf.distribute.TPUStrategy(tpu)"
      ],
      "metadata": {
        "colab": {
          "base_uri": "https://localhost:8080/"
        },
        "id": "-pfTcgpLY7Jx",
        "outputId": "c86516fd-b1ad-452f-d73c-7e207c8c081a"
      },
      "execution_count": 15,
      "outputs": [
        {
          "output_type": "stream",
          "name": "stdout",
          "text": [
            "Tensorflow version 2.12.0\n",
            "Running on TPU  ['10.94.71.162:8470']\n"
          ]
        }
      ]
    },
    {
      "cell_type": "markdown",
      "source": [
        "**Training** **The** **Model**"
      ],
      "metadata": {
        "id": "4cnazpYUqBVr"
      }
    },
    {
      "cell_type": "code",
      "source": [
        "from lightfm import LightFM\n",
        "with tpu_strategy.scope():\n",
        "\n",
        "  model = create_model()\n",
        "model"
      ],
      "metadata": {
        "colab": {
          "base_uri": "https://localhost:8080/"
        },
        "id": "h1RAfnzcY7Yh",
        "outputId": "0dee9816-c724-4dc1-ab4e-439f3702a35f"
      },
      "execution_count": 16,
      "outputs": [
        {
          "output_type": "execute_result",
          "data": {
            "text/plain": [
              "<lightfm.lightfm.LightFM at 0x7fd40f8831f0>"
            ]
          },
          "metadata": {},
          "execution_count": 16
        }
      ]
    },
    {
      "cell_type": "code",
      "source": [
        "model.fit(train_sparse, epochs=20, num_threads=2)"
      ],
      "metadata": {
        "id": "O2tEvVCwhwhh",
        "colab": {
          "base_uri": "https://localhost:8080/"
        },
        "outputId": "fe03abc9-5f43-4099-80b4-73130f738fee"
      },
      "execution_count": 29,
      "outputs": [
        {
          "output_type": "execute_result",
          "data": {
            "text/plain": [
              "<lightfm.lightfm.LightFM at 0x7fd40f8831f0>"
            ]
          },
          "metadata": {},
          "execution_count": 29
        }
      ]
    },
    {
      "cell_type": "code",
      "source": [],
      "metadata": {
        "id": "1DgDRBB3k5vI"
      },
      "execution_count": null,
      "outputs": []
    },
    {
      "cell_type": "markdown",
      "source": [
        "**Evaluation** **Measure**"
      ],
      "metadata": {
        "id": "MVWJjbJLpVMw"
      }
    },
    {
      "cell_type": "code",
      "source": [
        "from lightfm.evaluation import auc_score\n",
        "print(\"Test auc: %.2f\" % auc_score(model, test_sparse).mean())"
      ],
      "metadata": {
        "colab": {
          "base_uri": "https://localhost:8080/"
        },
        "id": "v3_VTF6nhF6s",
        "outputId": "27a1156f-2c9f-48d4-88f3-5a3640d459fb"
      },
      "execution_count": 32,
      "outputs": [
        {
          "output_type": "stream",
          "name": "stdout",
          "text": [
            "Test auc: 0.40\n"
          ]
        }
      ]
    },
    {
      "cell_type": "markdown",
      "source": [
        "**Making** **Prediction**"
      ],
      "metadata": {
        "id": "kuTl6Vlmp3cK"
      }
    },
    {
      "cell_type": "markdown",
      "source": [
        "We can now use the model to make prediction of a score that a user might give to certain items:"
      ],
      "metadata": {
        "id": "3QjOd3M5nU7g"
      }
    },
    {
      "cell_type": "markdown",
      "source": [],
      "metadata": {
        "id": "Aa-rkBxep0tY"
      }
    },
    {
      "cell_type": "code",
      "source": [
        "\n",
        "model.predict(user_ids=[4,8], item_ids=[2,5])\n"
      ],
      "metadata": {
        "colab": {
          "base_uri": "https://localhost:8080/"
        },
        "id": "HJM1McHlZiEI",
        "outputId": "7c2ccae8-4a8f-4e33-91a5-a7e331ff7dae"
      },
      "execution_count": 33,
      "outputs": [
        {
          "output_type": "execute_result",
          "data": {
            "text/plain": [
              "array([-25.939266, -26.304434], dtype=float32)"
            ]
          },
          "metadata": {},
          "execution_count": 33
        }
      ]
    },
    {
      "cell_type": "markdown",
      "source": [
        "This means that user 4 might give a score of -25.93 to item 2. And user 8 might give a score of -26.3 to item 5"
      ],
      "metadata": {
        "id": "0YxLFtOdog2-"
      }
    }
  ],
  "metadata": {
    "accelerator": "TPU",
    "colab": {
      "provenance": []
    },
    "kernelspec": {
      "display_name": "Python 3",
      "name": "python3"
    },
    "language_info": {
      "name": "python"
    }
  },
  "nbformat": 4,
  "nbformat_minor": 0
}
